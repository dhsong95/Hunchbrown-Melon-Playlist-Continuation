{
 "cells": [
  {
   "cell_type": "code",
   "execution_count": 1,
   "metadata": {},
   "outputs": [],
   "source": [
    "import io\n",
    "import os\n",
    "import json\n",
    "import distutils.dir_util\n",
    "from collections import Counter\n",
    "import pickle\n",
    "from tqdm import tqdm\n",
    "import numpy as np\n",
    "import pandas as pd\n",
    "import matplotlib.pyplot as plt\n",
    "import matplotlib.font_manager as fm\n",
    "\n",
    "from scipy.sparse import csr_matrix\n",
    "\n",
    "from sklearn.decomposition import NMF"
   ]
  },
  {
   "cell_type": "code",
   "execution_count": 2,
   "metadata": {},
   "outputs": [],
   "source": [
    "pd.options.display.max_rows = 499\n",
    "pd.options.display.max_columns = 499\n",
    "pd.options.mode.chained_assignment = None"
   ]
  },
  {
   "cell_type": "code",
   "execution_count": 3,
   "metadata": {},
   "outputs": [],
   "source": [
    "fname = '../static/fonts/D2Coding.ttc'\n",
    "font_family = fm.FontProperties(fname=fname).get_name()\n",
    "plt.rcParams['font.family'] = font_family\n",
    "plt.rcParams['font.size'] = 14"
   ]
  },
  {
   "cell_type": "code",
   "execution_count": 4,
   "metadata": {
    "tags": []
   },
   "outputs": [],
   "source": [
    "%matplotlib inline"
   ]
  },
  {
   "cell_type": "code",
   "execution_count": 5,
   "metadata": {},
   "outputs": [],
   "source": [
    "def write_json(data, fname):\n",
    "    def _conv(o):\n",
    "        if isinstance(o, (np.int64, np.int32)):\n",
    "            return int(o)\n",
    "        raise TypeError\n",
    "\n",
    "    parent = os.path.dirname(fname)\n",
    "    distutils.dir_util.mkpath(\"./arena_data/\" + parent)\n",
    "    with io.open(\"./arena_data/\" + fname, \"w\", encoding=\"utf-8\") as f:\n",
    "        json_str = json.dumps(data, ensure_ascii=False, default=_conv)\n",
    "        f.write(json_str)\n",
    "\n",
    "\n",
    "def load_json(fname):\n",
    "    with open(fname, encoding=\"utf-8\") as f:\n",
    "        json_obj = json.load(f)\n",
    "\n",
    "    return json_obj\n",
    "\n",
    "\n",
    "def debug_json(r):\n",
    "    print(json.dumps(r, ensure_ascii=False, indent=4))\n",
    "\n",
    "\n",
    "def remove_seen(seen, l):\n",
    "    seen = set(seen)\n",
    "    return [x for x in l if not (x in seen)]"
   ]
  },
  {
   "cell_type": "code",
   "execution_count": 6,
   "metadata": {},
   "outputs": [],
   "source": [
    "train_path = '../arena_data/orig/train.json'\n",
    "val_path = '../arena_data/orig/val.json'\n",
    "\n",
    "train_json = load_json(train_path)\n",
    "val_json = load_json(val_path)"
   ]
  },
  {
   "cell_type": "code",
   "execution_count": 7,
   "metadata": {},
   "outputs": [],
   "source": [
    "def json_to_dataframe(json_data):\n",
    "    dataframe_dict = {'id': [], 'plylst_title': [], 'tags': [], 'songs': [], 'like_cnt': [], 'updt_date': []}\n",
    "\n",
    "    for data in tqdm(json_data):\n",
    "        dataframe_dict['id'].append(data['id'])\n",
    "        dataframe_dict['plylst_title'].append(data['plylst_title'])\n",
    "        dataframe_dict['tags'].append(data['tags'])\n",
    "        dataframe_dict['songs'].append(data['songs'])\n",
    "        dataframe_dict['like_cnt'].append(data['like_cnt'])\n",
    "        dataframe_dict['updt_date'].append(data['updt_date'])\n",
    "    \n",
    "    dataframe = pd.DataFrame(dataframe_dict)\n",
    "    dataframe['updt_date'] = pd.to_datetime(dataframe.updt_date)\n",
    "\n",
    "    return dataframe\n"
   ]
  },
  {
   "cell_type": "code",
   "execution_count": 8,
   "metadata": {
    "tags": []
   },
   "outputs": [
    {
     "output_type": "stream",
     "name": "stderr",
     "text": "100%|██████████| 92056/92056 [00:00<00:00, 469889.86it/s]\n"
    },
    {
     "output_type": "execute_result",
     "data": {
      "text/plain": "           id                             plylst_title  \\\n0      147668                          To. 힘들고 지친 분들에게   \n1       50422                                 130807-7   \n2      116432                   숙면을 위한 슬픈 마음을 달래 줄 피아노   \n3       55076                           당신을 하얗게 불태울 곡들   \n4      125064  [스피커 필수 / HIPHOP] 듣고 있음 꿀렁꿀렁이고 싶은 힙합음악!   \n...       ...                                      ...   \n92051  149690                 옛날노래 * 좋은노래 8090년생 노래 모음   \n92052   35004                                   LOVE 1   \n92053   59765                        추억의 2004년 발라드 베스트   \n92054    9867         All Music Guide 선정 90s R&B: 1997   \n92055   15046                          ★ Real HipHop ★   \n\n                                   tags  \\\n0                       [힐링, 휴식, 밤, 새벽]   \n1                                   [팝]   \n2                                [뉴에이지]   \n3                       [하드락, 록스피릿, 댄스]   \n4                        [힐링, 휴식, 기분전환]   \n...                                 ...   \n92051  [90년생, 회상, 추억, 좋은노래, 80년생, 옛날노래]   \n92052                               [팝]   \n92053               [여행, 발라드, 기분전환, 사랑]   \n92054                         [소울, 알앤비]   \n92055                           [힙합, 랩]   \n\n                                                   songs  like_cnt  \\\n0      [663185, 649626, 6855, 188486, 348451, 169945,...        12   \n1      [627035, 256438, 603324, 200889, 441319, 21689...         0   \n2      [129204, 369497, 649743, 344619, 110281, 63266...        23   \n3      [677591, 420396, 104934, 119279, 251988, 58850...         1   \n4      [704455, 694036, 508043, 154933, 57614, 645195...       715   \n...                                                  ...       ...   \n92051  [292099, 513963, 174225, 287212, 140444, 62469...       155   \n92052  [62596, 359718, 596004, 668790, 291212, 148977...         8   \n92053  [214372, 145150, 407082, 160552, 102445, 50845...         3   \n92054  [561958, 397574, 250915, 110345, 426772, 10698...        51   \n92055  [364007, 472608, 198805, 580961, 226073, 24992...       116   \n\n                updt_date  \n0     2016-06-23 10:06:27  \n1     2013-08-15 13:17:11  \n2     2015-09-03 16:51:50  \n3     2017-01-09 15:41:25  \n4     2016-02-22 12:32:50  \n...                   ...  \n92051 2020-01-15 15:15:45  \n92052 2010-03-23 00:03:00  \n92053 2019-05-15 13:26:07  \n92054 2013-12-24 14:40:01  \n92055 2009-11-04 04:03:01  \n\n[92056 rows x 6 columns]",
      "text/html": "<div>\n<style scoped>\n    .dataframe tbody tr th:only-of-type {\n        vertical-align: middle;\n    }\n\n    .dataframe tbody tr th {\n        vertical-align: top;\n    }\n\n    .dataframe thead th {\n        text-align: right;\n    }\n</style>\n<table border=\"1\" class=\"dataframe\">\n  <thead>\n    <tr style=\"text-align: right;\">\n      <th></th>\n      <th>id</th>\n      <th>plylst_title</th>\n      <th>tags</th>\n      <th>songs</th>\n      <th>like_cnt</th>\n      <th>updt_date</th>\n    </tr>\n  </thead>\n  <tbody>\n    <tr>\n      <th>0</th>\n      <td>147668</td>\n      <td>To. 힘들고 지친 분들에게</td>\n      <td>[힐링, 휴식, 밤, 새벽]</td>\n      <td>[663185, 649626, 6855, 188486, 348451, 169945,...</td>\n      <td>12</td>\n      <td>2016-06-23 10:06:27</td>\n    </tr>\n    <tr>\n      <th>1</th>\n      <td>50422</td>\n      <td>130807-7</td>\n      <td>[팝]</td>\n      <td>[627035, 256438, 603324, 200889, 441319, 21689...</td>\n      <td>0</td>\n      <td>2013-08-15 13:17:11</td>\n    </tr>\n    <tr>\n      <th>2</th>\n      <td>116432</td>\n      <td>숙면을 위한 슬픈 마음을 달래 줄 피아노</td>\n      <td>[뉴에이지]</td>\n      <td>[129204, 369497, 649743, 344619, 110281, 63266...</td>\n      <td>23</td>\n      <td>2015-09-03 16:51:50</td>\n    </tr>\n    <tr>\n      <th>3</th>\n      <td>55076</td>\n      <td>당신을 하얗게 불태울 곡들</td>\n      <td>[하드락, 록스피릿, 댄스]</td>\n      <td>[677591, 420396, 104934, 119279, 251988, 58850...</td>\n      <td>1</td>\n      <td>2017-01-09 15:41:25</td>\n    </tr>\n    <tr>\n      <th>4</th>\n      <td>125064</td>\n      <td>[스피커 필수 / HIPHOP] 듣고 있음 꿀렁꿀렁이고 싶은 힙합음악!</td>\n      <td>[힐링, 휴식, 기분전환]</td>\n      <td>[704455, 694036, 508043, 154933, 57614, 645195...</td>\n      <td>715</td>\n      <td>2016-02-22 12:32:50</td>\n    </tr>\n    <tr>\n      <th>...</th>\n      <td>...</td>\n      <td>...</td>\n      <td>...</td>\n      <td>...</td>\n      <td>...</td>\n      <td>...</td>\n    </tr>\n    <tr>\n      <th>92051</th>\n      <td>149690</td>\n      <td>옛날노래 * 좋은노래 8090년생 노래 모음</td>\n      <td>[90년생, 회상, 추억, 좋은노래, 80년생, 옛날노래]</td>\n      <td>[292099, 513963, 174225, 287212, 140444, 62469...</td>\n      <td>155</td>\n      <td>2020-01-15 15:15:45</td>\n    </tr>\n    <tr>\n      <th>92052</th>\n      <td>35004</td>\n      <td>LOVE 1</td>\n      <td>[팝]</td>\n      <td>[62596, 359718, 596004, 668790, 291212, 148977...</td>\n      <td>8</td>\n      <td>2010-03-23 00:03:00</td>\n    </tr>\n    <tr>\n      <th>92053</th>\n      <td>59765</td>\n      <td>추억의 2004년 발라드 베스트</td>\n      <td>[여행, 발라드, 기분전환, 사랑]</td>\n      <td>[214372, 145150, 407082, 160552, 102445, 50845...</td>\n      <td>3</td>\n      <td>2019-05-15 13:26:07</td>\n    </tr>\n    <tr>\n      <th>92054</th>\n      <td>9867</td>\n      <td>All Music Guide 선정 90s R&amp;B: 1997</td>\n      <td>[소울, 알앤비]</td>\n      <td>[561958, 397574, 250915, 110345, 426772, 10698...</td>\n      <td>51</td>\n      <td>2013-12-24 14:40:01</td>\n    </tr>\n    <tr>\n      <th>92055</th>\n      <td>15046</td>\n      <td>★ Real HipHop ★</td>\n      <td>[힙합, 랩]</td>\n      <td>[364007, 472608, 198805, 580961, 226073, 24992...</td>\n      <td>116</td>\n      <td>2009-11-04 04:03:01</td>\n    </tr>\n  </tbody>\n</table>\n<p>92056 rows × 6 columns</p>\n</div>"
     },
     "metadata": {},
     "execution_count": 8
    }
   ],
   "source": [
    "train_df = json_to_dataframe(train_json)\n",
    "train_df"
   ]
  },
  {
   "cell_type": "code",
   "execution_count": 9,
   "metadata": {
    "tags": []
   },
   "outputs": [
    {
     "output_type": "stream",
     "name": "stdout",
     "text": "<class 'pandas.core.frame.DataFrame'>\nRangeIndex: 92056 entries, 0 to 92055\nData columns (total 6 columns):\n #   Column        Non-Null Count  Dtype         \n---  ------        --------------  -----         \n 0   id            92056 non-null  int64         \n 1   plylst_title  92056 non-null  object        \n 2   tags          92056 non-null  object        \n 3   songs         92056 non-null  object        \n 4   like_cnt      92056 non-null  int64         \n 5   updt_date     92056 non-null  datetime64[ns]\ndtypes: datetime64[ns](1), int64(2), object(3)\nmemory usage: 4.2+ MB\n"
    }
   ],
   "source": [
    "train_df.info()"
   ]
  },
  {
   "cell_type": "code",
   "execution_count": 10,
   "metadata": {
    "tags": []
   },
   "outputs": [
    {
     "output_type": "stream",
     "name": "stderr",
     "text": "100%|██████████| 23015/23015 [00:00<00:00, 606230.53it/s]\n"
    },
    {
     "output_type": "execute_result",
     "data": {
      "text/plain": "           id                       plylst_title  \\\n0       18488                      요즘 많이듣는 인디 노래   \n1       76254               살랑살랑 불어오는 바람 같은 뉴에이지   \n2       86227                   비오는날 감미롭고 우울한 재즈   \n3       87450                걸크러쉬돋는 여자보컬 락 노래 모음   \n4       24649                        퇴근 후 차분한 인디   \n...       ...                                ...   \n23010   34841                    ♥♥♥♥♥♥♥♥♥♥♥♥♥♥♥   \n23011  119043                         영원한 가왕 조용필   \n23012   65397  2015 SJF 서울 재즈 페스티벌 셋리스트 - 해외 공연팀   \n23013   79292                    회복의 찬양(스튜디오 녹음)   \n23014   81476             실용음악과 입시생들이 듣는 필수 POP.   \n\n                                     tags  \\\n0      [카페, 인디음악, 드라이브, 인디뮤직, 사랑, 이별, 인디]   \n1                            [살랑살랑, 뉴에이지]   \n2                           [비오는날, 밤, 새벽]   \n3                       [락, 락밴드, 메탈, 락음악]   \n4       [집중, 휴식, 밤, 카페, 새벽, 차분한, 조용한, 인디]   \n...                                   ...   \n23010                               [발라드]   \n23011          [자작곡, 원조, 열창, 조용필, 감동, 명곡]   \n23012      [서울재즈페스티벌, 서재페, SJF, 셋리스트, 공연]   \n23013                           [CCM, 항상]   \n23014                                 [팝]   \n\n                                                   songs  like_cnt  \\\n0      [674442, 131295, 83652, 352919, 233166, 99741,...         3   \n1      [222141, 422934, 4917, 700161, 424495, 683582,...         4   \n2      [333034, 638621, 483000, 570730, 442053, 17405...        41   \n3      [229337, 30825, 475737, 672432, 59091, 98657, ...        17   \n4      [13930, 18100, 105626, 310720, 93295, 557891, ...         5   \n...                                                  ...       ...   \n23010  [55291, 84345, 434639, 129233, 93698, 121309, ...        11   \n23011  [38369, 139236, 201546, 134358, 596576, 649107...        10   \n23012  [589131, 695266, 300481, 348950, 165299, 19520...        18   \n23013  [425704, 404399, 190558, 72325, 54248, 389972,...        67   \n23014  [306486, 535677, 316581, 413259, 695025, 48475...        82   \n\n                updt_date  \n0     2017-07-17 11:00:52  \n1     2017-07-20 13:42:37  \n2     2015-07-10 03:18:46  \n3     2017-07-10 21:30:25  \n4     2020-04-09 00:04:15  \n...                   ...  \n23010 2007-10-25 09:10:55  \n23011 2020-01-06 09:28:09  \n23012 2017-02-03 17:57:37  \n23013 2018-07-12 09:38:59  \n23014 2015-10-26 16:15:22  \n\n[23015 rows x 6 columns]",
      "text/html": "<div>\n<style scoped>\n    .dataframe tbody tr th:only-of-type {\n        vertical-align: middle;\n    }\n\n    .dataframe tbody tr th {\n        vertical-align: top;\n    }\n\n    .dataframe thead th {\n        text-align: right;\n    }\n</style>\n<table border=\"1\" class=\"dataframe\">\n  <thead>\n    <tr style=\"text-align: right;\">\n      <th></th>\n      <th>id</th>\n      <th>plylst_title</th>\n      <th>tags</th>\n      <th>songs</th>\n      <th>like_cnt</th>\n      <th>updt_date</th>\n    </tr>\n  </thead>\n  <tbody>\n    <tr>\n      <th>0</th>\n      <td>18488</td>\n      <td>요즘 많이듣는 인디 노래</td>\n      <td>[카페, 인디음악, 드라이브, 인디뮤직, 사랑, 이별, 인디]</td>\n      <td>[674442, 131295, 83652, 352919, 233166, 99741,...</td>\n      <td>3</td>\n      <td>2017-07-17 11:00:52</td>\n    </tr>\n    <tr>\n      <th>1</th>\n      <td>76254</td>\n      <td>살랑살랑 불어오는 바람 같은 뉴에이지</td>\n      <td>[살랑살랑, 뉴에이지]</td>\n      <td>[222141, 422934, 4917, 700161, 424495, 683582,...</td>\n      <td>4</td>\n      <td>2017-07-20 13:42:37</td>\n    </tr>\n    <tr>\n      <th>2</th>\n      <td>86227</td>\n      <td>비오는날 감미롭고 우울한 재즈</td>\n      <td>[비오는날, 밤, 새벽]</td>\n      <td>[333034, 638621, 483000, 570730, 442053, 17405...</td>\n      <td>41</td>\n      <td>2015-07-10 03:18:46</td>\n    </tr>\n    <tr>\n      <th>3</th>\n      <td>87450</td>\n      <td>걸크러쉬돋는 여자보컬 락 노래 모음</td>\n      <td>[락, 락밴드, 메탈, 락음악]</td>\n      <td>[229337, 30825, 475737, 672432, 59091, 98657, ...</td>\n      <td>17</td>\n      <td>2017-07-10 21:30:25</td>\n    </tr>\n    <tr>\n      <th>4</th>\n      <td>24649</td>\n      <td>퇴근 후 차분한 인디</td>\n      <td>[집중, 휴식, 밤, 카페, 새벽, 차분한, 조용한, 인디]</td>\n      <td>[13930, 18100, 105626, 310720, 93295, 557891, ...</td>\n      <td>5</td>\n      <td>2020-04-09 00:04:15</td>\n    </tr>\n    <tr>\n      <th>...</th>\n      <td>...</td>\n      <td>...</td>\n      <td>...</td>\n      <td>...</td>\n      <td>...</td>\n      <td>...</td>\n    </tr>\n    <tr>\n      <th>23010</th>\n      <td>34841</td>\n      <td>♥♥♥♥♥♥♥♥♥♥♥♥♥♥♥</td>\n      <td>[발라드]</td>\n      <td>[55291, 84345, 434639, 129233, 93698, 121309, ...</td>\n      <td>11</td>\n      <td>2007-10-25 09:10:55</td>\n    </tr>\n    <tr>\n      <th>23011</th>\n      <td>119043</td>\n      <td>영원한 가왕 조용필</td>\n      <td>[자작곡, 원조, 열창, 조용필, 감동, 명곡]</td>\n      <td>[38369, 139236, 201546, 134358, 596576, 649107...</td>\n      <td>10</td>\n      <td>2020-01-06 09:28:09</td>\n    </tr>\n    <tr>\n      <th>23012</th>\n      <td>65397</td>\n      <td>2015 SJF 서울 재즈 페스티벌 셋리스트 - 해외 공연팀</td>\n      <td>[서울재즈페스티벌, 서재페, SJF, 셋리스트, 공연]</td>\n      <td>[589131, 695266, 300481, 348950, 165299, 19520...</td>\n      <td>18</td>\n      <td>2017-02-03 17:57:37</td>\n    </tr>\n    <tr>\n      <th>23013</th>\n      <td>79292</td>\n      <td>회복의 찬양(스튜디오 녹음)</td>\n      <td>[CCM, 항상]</td>\n      <td>[425704, 404399, 190558, 72325, 54248, 389972,...</td>\n      <td>67</td>\n      <td>2018-07-12 09:38:59</td>\n    </tr>\n    <tr>\n      <th>23014</th>\n      <td>81476</td>\n      <td>실용음악과 입시생들이 듣는 필수 POP.</td>\n      <td>[팝]</td>\n      <td>[306486, 535677, 316581, 413259, 695025, 48475...</td>\n      <td>82</td>\n      <td>2015-10-26 16:15:22</td>\n    </tr>\n  </tbody>\n</table>\n<p>23015 rows × 6 columns</p>\n</div>"
     },
     "metadata": {},
     "execution_count": 10
    }
   ],
   "source": [
    "val_df = json_to_dataframe(val_json)\n",
    "val_df"
   ]
  },
  {
   "cell_type": "code",
   "execution_count": 11,
   "metadata": {
    "tags": []
   },
   "outputs": [
    {
     "output_type": "stream",
     "name": "stdout",
     "text": "<class 'pandas.core.frame.DataFrame'>\nRangeIndex: 23015 entries, 0 to 23014\nData columns (total 6 columns):\n #   Column        Non-Null Count  Dtype         \n---  ------        --------------  -----         \n 0   id            23015 non-null  int64         \n 1   plylst_title  23015 non-null  object        \n 2   tags          23015 non-null  object        \n 3   songs         23015 non-null  object        \n 4   like_cnt      23015 non-null  int64         \n 5   updt_date     23015 non-null  datetime64[ns]\ndtypes: datetime64[ns](1), int64(2), object(3)\nmemory usage: 1.1+ MB\n"
    }
   ],
   "source": [
    "val_df.info()"
   ]
  },
  {
   "cell_type": "code",
   "execution_count": 12,
   "metadata": {},
   "outputs": [],
   "source": [
    "def get_unique_value(dataframe, column, list_type=True):\n",
    "    unique_values = set()\n",
    "    if list_type:\n",
    "        for c in tqdm(dataframe[column]):\n",
    "            unique_values |= set(c)\n",
    "    else:\n",
    "        unique_values = set(dataframe[column].unique())\n",
    "    \n",
    "    return unique_values"
   ]
  },
  {
   "cell_type": "code",
   "execution_count": 13,
   "metadata": {
    "tags": []
   },
   "outputs": [
    {
     "output_type": "stream",
     "name": "stderr",
     "text": "100%|██████████| 92056/92056 [00:00<00:00, 692222.88it/s]\n"
    },
    {
     "output_type": "execute_result",
     "data": {
      "text/plain": "25480"
     },
     "metadata": {},
     "execution_count": 13
    }
   ],
   "source": [
    "unique_tags_train = get_unique_value(train_df, 'tags')\n",
    "len(unique_tags_train)"
   ]
  },
  {
   "cell_type": "code",
   "execution_count": 14,
   "metadata": {},
   "outputs": [
    {
     "output_type": "execute_result",
     "data": {
      "text/plain": "Empty DataFrame\nColumns: [id, plylst_title, tags, songs, like_cnt, updt_date]\nIndex: []",
      "text/html": "<div>\n<style scoped>\n    .dataframe tbody tr th:only-of-type {\n        vertical-align: middle;\n    }\n\n    .dataframe tbody tr th {\n        vertical-align: top;\n    }\n\n    .dataframe thead th {\n        text-align: right;\n    }\n</style>\n<table border=\"1\" class=\"dataframe\">\n  <thead>\n    <tr style=\"text-align: right;\">\n      <th></th>\n      <th>id</th>\n      <th>plylst_title</th>\n      <th>tags</th>\n      <th>songs</th>\n      <th>like_cnt</th>\n      <th>updt_date</th>\n    </tr>\n  </thead>\n  <tbody>\n  </tbody>\n</table>\n</div>"
     },
     "metadata": {},
     "execution_count": 14
    }
   ],
   "source": [
    "train_df[train_df.tags.apply(len) == 0]"
   ]
  },
  {
   "cell_type": "code",
   "execution_count": 15,
   "metadata": {},
   "outputs": [
    {
     "output_type": "execute_result",
     "data": {
      "text/plain": "          id            plylst_title  \\\n88542  95032  어떻게 떴냐고? 답은 바로 TikTok!   \n\n                                             tags  \\\n88542  [힙합, , 흑인음악, 힙합엘이, 힙합추천, 틱톡, 외힙, HIPHOPLE]   \n\n                                                   songs  like_cnt  \\\n88542  [253222, 270262, 301533, 136007, 238347, 13384...         7   \n\n                updt_date  \n88542 2020-01-08 11:19:11  ",
      "text/html": "<div>\n<style scoped>\n    .dataframe tbody tr th:only-of-type {\n        vertical-align: middle;\n    }\n\n    .dataframe tbody tr th {\n        vertical-align: top;\n    }\n\n    .dataframe thead th {\n        text-align: right;\n    }\n</style>\n<table border=\"1\" class=\"dataframe\">\n  <thead>\n    <tr style=\"text-align: right;\">\n      <th></th>\n      <th>id</th>\n      <th>plylst_title</th>\n      <th>tags</th>\n      <th>songs</th>\n      <th>like_cnt</th>\n      <th>updt_date</th>\n    </tr>\n  </thead>\n  <tbody>\n    <tr>\n      <th>88542</th>\n      <td>95032</td>\n      <td>어떻게 떴냐고? 답은 바로 TikTok!</td>\n      <td>[힙합, , 흑인음악, 힙합엘이, 힙합추천, 틱톡, 외힙, HIPHOPLE]</td>\n      <td>[253222, 270262, 301533, 136007, 238347, 13384...</td>\n      <td>7</td>\n      <td>2020-01-08 11:19:11</td>\n    </tr>\n  </tbody>\n</table>\n</div>"
     },
     "metadata": {},
     "execution_count": 15
    }
   ],
   "source": [
    "train_df[train_df.tags.apply(lambda x: '' in x)]"
   ]
  },
  {
   "cell_type": "code",
   "execution_count": 16,
   "metadata": {
    "tags": []
   },
   "outputs": [
    {
     "output_type": "stream",
     "name": "stderr",
     "text": "100%|██████████| 23015/23015 [00:00<00:00, 657668.38it/s]\n"
    },
    {
     "output_type": "execute_result",
     "data": {
      "text/plain": "10802"
     },
     "metadata": {},
     "execution_count": 16
    }
   ],
   "source": [
    "unique_tags_val = get_unique_value(val_df, 'tags')\n",
    "len(unique_tags_val)"
   ]
  },
  {
   "cell_type": "code",
   "execution_count": 17,
   "metadata": {},
   "outputs": [
    {
     "output_type": "execute_result",
     "data": {
      "text/plain": "29160"
     },
     "metadata": {},
     "execution_count": 17
    }
   ],
   "source": [
    "unique_tags = unique_tags_train | unique_tags_val\n",
    "len(unique_tags)"
   ]
  },
  {
   "cell_type": "code",
   "execution_count": 18,
   "metadata": {
    "tags": []
   },
   "outputs": [
    {
     "output_type": "stream",
     "name": "stderr",
     "text": "100%|██████████| 92056/92056 [00:00<00:00, 125933.83it/s]\n"
    },
    {
     "output_type": "execute_result",
     "data": {
      "text/plain": "549729"
     },
     "metadata": {},
     "execution_count": 18
    }
   ],
   "source": [
    "unique_songs_train = get_unique_value(train_df, 'songs')\n",
    "len(unique_songs_train)"
   ]
  },
  {
   "cell_type": "code",
   "execution_count": 19,
   "metadata": {
    "tags": []
   },
   "outputs": [
    {
     "output_type": "stream",
     "name": "stderr",
     "text": "100%|██████████| 23015/23015 [00:00<00:00, 120392.80it/s]\n"
    },
    {
     "output_type": "execute_result",
     "data": {
      "text/plain": "261843"
     },
     "metadata": {},
     "execution_count": 19
    }
   ],
   "source": [
    "unique_songs_val = get_unique_value(val_df, 'songs')\n",
    "len(unique_songs_val)"
   ]
  },
  {
   "cell_type": "code",
   "execution_count": 20,
   "metadata": {},
   "outputs": [
    {
     "output_type": "execute_result",
     "data": {
      "text/plain": "615142"
     },
     "metadata": {},
     "execution_count": 20
    }
   ],
   "source": [
    "unique_songs = unique_songs_train | unique_songs_val\n",
    "len(unique_songs)"
   ]
  },
  {
   "cell_type": "code",
   "execution_count": 21,
   "metadata": {
    "tags": []
   },
   "outputs": [
    {
     "output_type": "stream",
     "name": "stderr",
     "text": "100%|██████████| 92056/92056 [00:00<00:00, 363078.60it/s]\n"
    },
    {
     "output_type": "execute_result",
     "data": {
      "text/plain": "2502"
     },
     "metadata": {},
     "execution_count": 21
    }
   ],
   "source": [
    "unique_playlists_train = get_unique_value(train_df, 'plylst_title')\n",
    "len(unique_playlists_train)"
   ]
  },
  {
   "cell_type": "code",
   "execution_count": 22,
   "metadata": {
    "tags": []
   },
   "outputs": [
    {
     "output_type": "stream",
     "name": "stderr",
     "text": "100%|██████████| 23015/23015 [00:00<00:00, 327853.61it/s]\n"
    },
    {
     "output_type": "execute_result",
     "data": {
      "text/plain": "1842"
     },
     "metadata": {},
     "execution_count": 22
    }
   ],
   "source": [
    "unique_playlists_val = get_unique_value(val_df, 'plylst_title')\n",
    "len(unique_playlists_val)"
   ]
  },
  {
   "cell_type": "code",
   "execution_count": 23,
   "metadata": {},
   "outputs": [
    {
     "output_type": "execute_result",
     "data": {
      "text/plain": "2626"
     },
     "metadata": {},
     "execution_count": 23
    }
   ],
   "source": [
    "unique_playlists = unique_playlists_train | unique_playlists_val\n",
    "len(unique_playlists)"
   ]
  },
  {
   "cell_type": "code",
   "execution_count": 24,
   "metadata": {},
   "outputs": [],
   "source": [
    "def item_to_index(items):\n",
    "    return {item:idx for idx, item in enumerate(items)}"
   ]
  },
  {
   "cell_type": "code",
   "execution_count": 25,
   "metadata": {},
   "outputs": [],
   "source": [
    "tag2idx = item_to_index(unique_tags)\n",
    "song2idx = item_to_index(unique_songs)"
   ]
  },
  {
   "cell_type": "code",
   "execution_count": 26,
   "metadata": {},
   "outputs": [],
   "source": [
    "def dataframe_to_user_item_matrix(dataframe_train, dataframe_test, item='tags', playlist2idx=None):\n",
    "    assert item in ['tags', 'songs']\n",
    "\n",
    "    unique_items_train = get_unique_value(dataframe_train, item)\n",
    "    unique_items_test = get_unique_value(dataframe_test, item)\n",
    "    unique_items = unique_items_train | unique_items_test\n",
    "\n",
    "    item2idx = item_to_index(unique_items)\n",
    "\n",
    "    if not playlist2idx:\n",
    "        unique_playlists_train = get_unique_value(dataframe_train, 'plylst_title', False)\n",
    "        unique_playlists_test = get_unique_value(dataframe_test, 'plylst_title', False)\n",
    "        unique_playlists = unique_playlists_train | unique_playlists_test\n",
    "\n",
    "        playlist2idx = item_to_index(unique_playlists)\n",
    "\n",
    "\n",
    "    rows = list()\n",
    "    cols = list()\n",
    "    data = list()\n",
    "    for idx, item_list in tqdm(enumerate(dataframe_train[item])):\n",
    "        for i in item_list:\n",
    "            rows.append(playlist2idx[dataframe_train.loc[idx, 'plylst_title']])\n",
    "            cols.append(item2idx[i])   \n",
    "            data.append(1)  \n",
    "    \n",
    "    rows = np.array(rows)\n",
    "    cols = np.array(cols)\n",
    "    data = np.array(data)\n",
    "\n",
    "    user_item_matrix = csr_matrix((data, (rows, cols)))\n",
    "\n",
    "    return playlist2idx, item2idx, user_item_matrix\n"
   ]
  },
  {
   "cell_type": "code",
   "execution_count": 27,
   "metadata": {
    "tags": []
   },
   "outputs": [
    {
     "output_type": "stream",
     "name": "stderr",
     "text": "100%|██████████| 92056/92056 [00:00<00:00, 827177.73it/s]\n100%|██████████| 23015/23015 [00:00<00:00, 781755.14it/s]\n92056it [00:03, 24151.93it/s]\n100%|██████████| 92056/92056 [00:00<00:00, 117121.69it/s]\n100%|██████████| 23015/23015 [00:00<00:00, 125054.94it/s]\n92056it [00:40, 2280.20it/s]\n"
    }
   ],
   "source": [
    "playlist2idx, tag2idx, playlist_tag_matrix = dataframe_to_user_item_matrix(train_df, val_df, item='tags')\n",
    "_, song2idx, playlist_song_matrix = dataframe_to_user_item_matrix(train_df, val_df, item='songs', playlist2idx=playlist2idx)"
   ]
  },
  {
   "cell_type": "code",
   "execution_count": 28,
   "metadata": {},
   "outputs": [
    {
     "output_type": "execute_result",
     "data": {
      "text/plain": "<110531x29160 sparse matrix of type '<class 'numpy.longlong'>'\n\twith 374930 stored elements in Compressed Sparse Row format>"
     },
     "metadata": {},
     "execution_count": 28
    }
   ],
   "source": [
    "playlist_tag_matrix"
   ]
  },
  {
   "cell_type": "code",
   "execution_count": 29,
   "metadata": {},
   "outputs": [
    {
     "output_type": "execute_result",
     "data": {
      "text/plain": "<110531x615142 sparse matrix of type '<class 'numpy.longlong'>'\n\twith 4172234 stored elements in Compressed Sparse Row format>"
     },
     "metadata": {},
     "execution_count": 29
    }
   ],
   "source": [
    "playlist_song_matrix"
   ]
  },
  {
   "cell_type": "code",
   "execution_count": 30,
   "metadata": {},
   "outputs": [],
   "source": [
    "def matrix_factorization(user_item_matrix, n_components=100):\n",
    "    model = NMF(n_components=n_components, init='random', verbose=True, tol=5e-2, max_iter=100, random_state=2020, shuffle=True)\n",
    "    model.fit(user_item_matrix)\n",
    "    W = model.transform(user_item_matrix)\n",
    "    H = model.components_\n",
    "\n",
    "    return model, W, H"
   ]
  },
  {
   "cell_type": "code",
   "execution_count": 31,
   "metadata": {
    "tags": []
   },
   "outputs": [
    {
     "output_type": "stream",
     "name": "stdout",
     "text": "violation: 1.0\nviolation: 8.253251793254766\nviolation: 3.8592201775425834\nviolation: 2.2502009052053844\nviolation: 1.358728231310922\nviolation: 0.9692378599041014\nviolation: 0.8659229343831552\nviolation: 0.5785203115456077\nviolation: 0.3839037684035592\nviolation: 0.27463257098504057\nviolation: 0.23915058213399576\nviolation: 0.23983070970853282\nviolation: 0.23188682489020687\nviolation: 0.2140629109887842\nviolation: 0.2195186069309953\nviolation: 0.1805632617620039\nviolation: 0.18925521901967818\nviolation: 0.164775936212995\nviolation: 0.1651802280439795\nviolation: 0.14962911912486876\nviolation: 0.13552165951465192\nviolation: 0.12278060118631266\nviolation: 0.10092647380581429\nviolation: 0.08510511302809617\nviolation: 0.07744705351514054\nviolation: 0.0679154785183234\nviolation: 0.06578454584353302\nviolation: 0.062069938907968615\nviolation: 0.06309585120443338\nviolation: 0.07221842872895957\nviolation: 0.08364122058180128\nviolation: 0.09352876370373493\nviolation: 0.10886327165831255\nviolation: 0.0993538364608311\nviolation: 0.09599354679530735\nviolation: 0.08882290540137477\nviolation: 0.07806204527007138\nviolation: 0.07741771508418793\nviolation: 0.062483754562771325\nviolation: 0.056691910350600803\nviolation: 0.04941727647344362\nConverged at iteration 42\nviolation: 1.0\nviolation: 0.048495715970926674\nConverged at iteration 3\n"
    }
   ],
   "source": [
    "model_tag, W_tag, H_tag = matrix_factorization(playlist_tag_matrix)"
   ]
  },
  {
   "cell_type": "code",
   "execution_count": 32,
   "metadata": {},
   "outputs": [],
   "source": [
    "with open('checkpoints/model-v1/model-v1-tag-nmf.pkl', 'wb') as f:\n",
    "    pickle.dump(model_tag, f)"
   ]
  },
  {
   "cell_type": "code",
   "execution_count": 33,
   "metadata": {
    "tags": []
   },
   "outputs": [
    {
     "output_type": "stream",
     "name": "stdout",
     "text": "violation: 1.0\nviolation: 8.209096773007074\nviolation: 2.883828377445379\nviolation: 1.5856331784149784\nviolation: 1.0448710915465376\nviolation: 0.7886296080586163\nviolation: 0.6602227615533662\nviolation: 0.5343575967657573\nviolation: 0.41433038068259437\nviolation: 0.3308719601908608\nviolation: 0.274193502759267\nviolation: 0.2240563399250701\nviolation: 0.2075414694574199\nviolation: 0.19493122215368114\nviolation: 0.18000432769204613\nviolation: 0.17639583546056295\nviolation: 0.17123665671559113\nviolation: 0.15781078496273152\nviolation: 0.14974119895192262\nviolation: 0.12979287533887152\nviolation: 0.11885332153246526\nviolation: 0.10290261508655914\nviolation: 0.0955550367548632\nviolation: 0.09206762490950353\nviolation: 0.08351875696277881\nviolation: 0.0787769664651518\nviolation: 0.07686701254554985\nviolation: 0.0767448589820301\nviolation: 0.07269858344996909\nviolation: 0.07175863272755544\nviolation: 0.06898619693580749\nviolation: 0.06965013237850394\nviolation: 0.06696506389681517\nviolation: 0.06762472359331215\nviolation: 0.06849215590836727\nviolation: 0.06673474859557786\nviolation: 0.06698346807318271\nviolation: 0.06056438976311982\nviolation: 0.06107699005607813\nviolation: 0.05929372983151162\nviolation: 0.05411231477725506\nviolation: 0.05236263190852325\nviolation: 0.050329867960224275\nviolation: 0.04787437122983688\nConverged at iteration 45\nviolation: 1.0\nviolation: 0.38827843521931193\nviolation: 0.11367767079525125\nviolation: 0.03067719127159797\nConverged at iteration 5\n"
    }
   ],
   "source": [
    "model_song, W_song, H_song = matrix_factorization(playlist_song_matrix)"
   ]
  },
  {
   "cell_type": "code",
   "execution_count": 34,
   "metadata": {},
   "outputs": [],
   "source": [
    "with open('checkpoints/model-v1/model-v1-song-nmf.pkl', 'wb') as f:\n",
    "    pickle.dump(model_song, f)"
   ]
  }
 ],
 "metadata": {
  "language_info": {
   "codemirror_mode": {
    "name": "ipython",
    "version": 3
   },
   "file_extension": ".py",
   "mimetype": "text/x-python",
   "name": "python",
   "nbconvert_exporter": "python",
   "pygments_lexer": "ipython3",
   "version": "3.7.4-final"
  },
  "orig_nbformat": 2,
  "kernelspec": {
   "name": "python37464bitvenvvenv77235a9261d1435da9b22f1d2e41fd2d",
   "display_name": "Python 3.7.4 64-bit ('venv': venv)"
  }
 },
 "nbformat": 4,
 "nbformat_minor": 2
}