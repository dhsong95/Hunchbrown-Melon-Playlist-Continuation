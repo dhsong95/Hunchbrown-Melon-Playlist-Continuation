{
 "cells": [
  {
   "cell_type": "code",
   "execution_count": null,
   "metadata": {},
   "outputs": [],
   "source": [
    "import io\n",
    "import os\n",
    "import json\n",
    "import distutils.dir_util\n",
    "from collections import Counter\n",
    "import pickle\n",
    "from tqdm import tqdm\n",
    "import numpy as np\n",
    "import pandas as pd\n",
    "import matplotlib.pyplot as plt\n",
    "import matplotlib.font_manager as fm\n",
    "\n",
    "from scipy.sparse import csr_matrix\n",
    "\n",
    "from sklearn.decomposition import NMF\n",
    "from sklearn.metrics.pairwise import cosine_similarity"
   ]
  },
  {
   "cell_type": "code",
   "execution_count": null,
   "metadata": {},
   "outputs": [],
   "source": [
    "pd.options.display.max_rows = 499\n",
    "pd.options.display.max_columns = 499\n",
    "pd.options.mode.chained_assignment = None"
   ]
  },
  {
   "cell_type": "code",
   "execution_count": null,
   "metadata": {},
   "outputs": [],
   "source": [
    "fname = '../static/fonts/D2Coding.ttc'\n",
    "font_family = fm.FontProperties(fname=fname).get_name()\n",
    "plt.rcParams['font.family'] = font_family\n",
    "plt.rcParams['font.size'] = 14"
   ]
  },
  {
   "cell_type": "code",
   "execution_count": null,
   "metadata": {
    "tags": []
   },
   "outputs": [],
   "source": [
    "%matplotlib inline"
   ]
  },
  {
   "cell_type": "code",
   "execution_count": 5,
   "metadata": {},
   "outputs": [],
   "source": [
    "def write_json(data, fname):\n",
    "    def _conv(o):\n",
    "        if isinstance(o, (np.int64, np.int32)):\n",
    "            return int(o)\n",
    "        raise TypeError\n",
    "\n",
    "    parent = os.path.dirname(fname)\n",
    "    distutils.dir_util.mkpath(\"./arena_data/\" + parent)\n",
    "    with io.open(\"./arena_data/\" + fname, \"w\", encoding=\"utf-8\") as f:\n",
    "        json_str = json.dumps(data, ensure_ascii=False, default=_conv)\n",
    "        f.write(json_str)\n",
    "\n",
    "\n",
    "def load_json(fname):\n",
    "    with open(fname, encoding=\"utf-8\") as f:\n",
    "        json_obj = json.load(f)\n",
    "\n",
    "    return json_obj\n",
    "\n",
    "\n",
    "def debug_json(r):\n",
    "    print(json.dumps(r, ensure_ascii=False, indent=4))\n",
    "\n",
    "\n",
    "def remove_seen(seen, l):\n",
    "    seen = set(seen)\n",
    "    return [x for x in l if not (x in seen)]"
   ]
  },
  {
   "cell_type": "code",
   "execution_count": 6,
   "metadata": {},
   "outputs": [],
   "source": [
    "train_path = '../arena_data/orig/train.json'\n",
    "val_path = '../arena_data/questions/val.json'\n",
    "\n",
    "train_json = load_json(train_path)\n",
    "val_json = load_json(val_path)"
   ]
  },
  {
   "cell_type": "code",
   "execution_count": 7,
   "metadata": {},
   "outputs": [],
   "source": [
    "def json_to_dataframe(json_data):\n",
    "    dataframe_dict = {'id': [], 'plylst_title': [], 'tags': [], 'songs': [], 'like_cnt': [], 'updt_date': []}\n",
    "\n",
    "    for data in tqdm(json_data):\n",
    "        dataframe_dict['id'].append(data['id'])\n",
    "        dataframe_dict['plylst_title'].append(data['plylst_title'])\n",
    "        dataframe_dict['tags'].append(data['tags'])\n",
    "        dataframe_dict['songs'].append(data['songs'])\n",
    "        dataframe_dict['like_cnt'].append(data['like_cnt'])\n",
    "        dataframe_dict['updt_date'].append(data['updt_date'])\n",
    "    \n",
    "    dataframe = pd.DataFrame(dataframe_dict)\n",
    "    dataframe['updt_date'] = pd.to_datetime(dataframe.updt_date)\n",
    "\n",
    "    return dataframe\n"
   ]
  },
  {
   "cell_type": "code",
   "execution_count": 8,
   "metadata": {
    "tags": []
   },
   "outputs": [
    {
     "output_type": "stream",
     "name": "stderr",
     "text": "100%|██████████| 92056/92056 [00:00<00:00, 604796.02it/s]\n"
    },
    {
     "output_type": "execute_result",
     "data": {
      "text/plain": "           id                             plylst_title  \\\n0      147668                          To. 힘들고 지친 분들에게   \n1       50422                                 130807-7   \n2      116432                   숙면을 위한 슬픈 마음을 달래 줄 피아노   \n3       55076                           당신을 하얗게 불태울 곡들   \n4      125064  [스피커 필수 / HIPHOP] 듣고 있음 꿀렁꿀렁이고 싶은 힙합음악!   \n...       ...                                      ...   \n92051  149690                 옛날노래 * 좋은노래 8090년생 노래 모음   \n92052   35004                                   LOVE 1   \n92053   59765                        추억의 2004년 발라드 베스트   \n92054    9867         All Music Guide 선정 90s R&B: 1997   \n92055   15046                          ★ Real HipHop ★   \n\n                                   tags  \\\n0                       [힐링, 휴식, 밤, 새벽]   \n1                                   [팝]   \n2                                [뉴에이지]   \n3                       [하드락, 록스피릿, 댄스]   \n4                        [힐링, 휴식, 기분전환]   \n...                                 ...   \n92051  [90년생, 회상, 추억, 좋은노래, 80년생, 옛날노래]   \n92052                               [팝]   \n92053               [여행, 발라드, 기분전환, 사랑]   \n92054                         [소울, 알앤비]   \n92055                           [힙합, 랩]   \n\n                                                   songs  like_cnt  \\\n0      [663185, 649626, 6855, 188486, 348451, 169945,...        12   \n1      [627035, 256438, 603324, 200889, 441319, 21689...         0   \n2      [129204, 369497, 649743, 344619, 110281, 63266...        23   \n3      [677591, 420396, 104934, 119279, 251988, 58850...         1   \n4      [704455, 694036, 508043, 154933, 57614, 645195...       715   \n...                                                  ...       ...   \n92051  [292099, 513963, 174225, 287212, 140444, 62469...       155   \n92052  [62596, 359718, 596004, 668790, 291212, 148977...         8   \n92053  [214372, 145150, 407082, 160552, 102445, 50845...         3   \n92054  [561958, 397574, 250915, 110345, 426772, 10698...        51   \n92055  [364007, 472608, 198805, 580961, 226073, 24992...       116   \n\n                updt_date  \n0     2016-06-23 10:06:27  \n1     2013-08-15 13:17:11  \n2     2015-09-03 16:51:50  \n3     2017-01-09 15:41:25  \n4     2016-02-22 12:32:50  \n...                   ...  \n92051 2020-01-15 15:15:45  \n92052 2010-03-23 00:03:00  \n92053 2019-05-15 13:26:07  \n92054 2013-12-24 14:40:01  \n92055 2009-11-04 04:03:01  \n\n[92056 rows x 6 columns]",
      "text/html": "<div>\n<style scoped>\n    .dataframe tbody tr th:only-of-type {\n        vertical-align: middle;\n    }\n\n    .dataframe tbody tr th {\n        vertical-align: top;\n    }\n\n    .dataframe thead th {\n        text-align: right;\n    }\n</style>\n<table border=\"1\" class=\"dataframe\">\n  <thead>\n    <tr style=\"text-align: right;\">\n      <th></th>\n      <th>id</th>\n      <th>plylst_title</th>\n      <th>tags</th>\n      <th>songs</th>\n      <th>like_cnt</th>\n      <th>updt_date</th>\n    </tr>\n  </thead>\n  <tbody>\n    <tr>\n      <th>0</th>\n      <td>147668</td>\n      <td>To. 힘들고 지친 분들에게</td>\n      <td>[힐링, 휴식, 밤, 새벽]</td>\n      <td>[663185, 649626, 6855, 188486, 348451, 169945,...</td>\n      <td>12</td>\n      <td>2016-06-23 10:06:27</td>\n    </tr>\n    <tr>\n      <th>1</th>\n      <td>50422</td>\n      <td>130807-7</td>\n      <td>[팝]</td>\n      <td>[627035, 256438, 603324, 200889, 441319, 21689...</td>\n      <td>0</td>\n      <td>2013-08-15 13:17:11</td>\n    </tr>\n    <tr>\n      <th>2</th>\n      <td>116432</td>\n      <td>숙면을 위한 슬픈 마음을 달래 줄 피아노</td>\n      <td>[뉴에이지]</td>\n      <td>[129204, 369497, 649743, 344619, 110281, 63266...</td>\n      <td>23</td>\n      <td>2015-09-03 16:51:50</td>\n    </tr>\n    <tr>\n      <th>3</th>\n      <td>55076</td>\n      <td>당신을 하얗게 불태울 곡들</td>\n      <td>[하드락, 록스피릿, 댄스]</td>\n      <td>[677591, 420396, 104934, 119279, 251988, 58850...</td>\n      <td>1</td>\n      <td>2017-01-09 15:41:25</td>\n    </tr>\n    <tr>\n      <th>4</th>\n      <td>125064</td>\n      <td>[스피커 필수 / HIPHOP] 듣고 있음 꿀렁꿀렁이고 싶은 힙합음악!</td>\n      <td>[힐링, 휴식, 기분전환]</td>\n      <td>[704455, 694036, 508043, 154933, 57614, 645195...</td>\n      <td>715</td>\n      <td>2016-02-22 12:32:50</td>\n    </tr>\n    <tr>\n      <th>...</th>\n      <td>...</td>\n      <td>...</td>\n      <td>...</td>\n      <td>...</td>\n      <td>...</td>\n      <td>...</td>\n    </tr>\n    <tr>\n      <th>92051</th>\n      <td>149690</td>\n      <td>옛날노래 * 좋은노래 8090년생 노래 모음</td>\n      <td>[90년생, 회상, 추억, 좋은노래, 80년생, 옛날노래]</td>\n      <td>[292099, 513963, 174225, 287212, 140444, 62469...</td>\n      <td>155</td>\n      <td>2020-01-15 15:15:45</td>\n    </tr>\n    <tr>\n      <th>92052</th>\n      <td>35004</td>\n      <td>LOVE 1</td>\n      <td>[팝]</td>\n      <td>[62596, 359718, 596004, 668790, 291212, 148977...</td>\n      <td>8</td>\n      <td>2010-03-23 00:03:00</td>\n    </tr>\n    <tr>\n      <th>92053</th>\n      <td>59765</td>\n      <td>추억의 2004년 발라드 베스트</td>\n      <td>[여행, 발라드, 기분전환, 사랑]</td>\n      <td>[214372, 145150, 407082, 160552, 102445, 50845...</td>\n      <td>3</td>\n      <td>2019-05-15 13:26:07</td>\n    </tr>\n    <tr>\n      <th>92054</th>\n      <td>9867</td>\n      <td>All Music Guide 선정 90s R&amp;B: 1997</td>\n      <td>[소울, 알앤비]</td>\n      <td>[561958, 397574, 250915, 110345, 426772, 10698...</td>\n      <td>51</td>\n      <td>2013-12-24 14:40:01</td>\n    </tr>\n    <tr>\n      <th>92055</th>\n      <td>15046</td>\n      <td>★ Real HipHop ★</td>\n      <td>[힙합, 랩]</td>\n      <td>[364007, 472608, 198805, 580961, 226073, 24992...</td>\n      <td>116</td>\n      <td>2009-11-04 04:03:01</td>\n    </tr>\n  </tbody>\n</table>\n<p>92056 rows × 6 columns</p>\n</div>"
     },
     "metadata": {},
     "execution_count": 8
    }
   ],
   "source": [
    "train_df = json_to_dataframe(train_json)\n",
    "train_df"
   ]
  },
  {
   "cell_type": "code",
   "execution_count": 9,
   "metadata": {
    "tags": []
   },
   "outputs": [
    {
     "output_type": "stream",
     "name": "stdout",
     "text": "<class 'pandas.core.frame.DataFrame'>\nRangeIndex: 92056 entries, 0 to 92055\nData columns (total 6 columns):\n #   Column        Non-Null Count  Dtype         \n---  ------        --------------  -----         \n 0   id            92056 non-null  int64         \n 1   plylst_title  92056 non-null  object        \n 2   tags          92056 non-null  object        \n 3   songs         92056 non-null  object        \n 4   like_cnt      92056 non-null  int64         \n 5   updt_date     92056 non-null  datetime64[ns]\ndtypes: datetime64[ns](1), int64(2), object(3)\nmemory usage: 4.2+ MB\n"
    }
   ],
   "source": [
    "train_df.info()"
   ]
  },
  {
   "cell_type": "code",
   "execution_count": 10,
   "metadata": {},
   "outputs": [
    {
     "output_type": "execute_result",
     "data": {
      "text/plain": "Empty DataFrame\nColumns: [id, plylst_title, tags, songs, like_cnt, updt_date]\nIndex: []",
      "text/html": "<div>\n<style scoped>\n    .dataframe tbody tr th:only-of-type {\n        vertical-align: middle;\n    }\n\n    .dataframe tbody tr th {\n        vertical-align: top;\n    }\n\n    .dataframe thead th {\n        text-align: right;\n    }\n</style>\n<table border=\"1\" class=\"dataframe\">\n  <thead>\n    <tr style=\"text-align: right;\">\n      <th></th>\n      <th>id</th>\n      <th>plylst_title</th>\n      <th>tags</th>\n      <th>songs</th>\n      <th>like_cnt</th>\n      <th>updt_date</th>\n    </tr>\n  </thead>\n  <tbody>\n  </tbody>\n</table>\n</div>"
     },
     "metadata": {},
     "execution_count": 10
    }
   ],
   "source": [
    "train_df[train_df.duplicated('id')]"
   ]
  },
  {
   "cell_type": "code",
   "execution_count": 11,
   "metadata": {
    "tags": []
   },
   "outputs": [
    {
     "output_type": "stream",
     "name": "stderr",
     "text": "100%|██████████| 23015/23015 [00:00<00:00, 624866.70it/s]\n"
    },
    {
     "output_type": "execute_result",
     "data": {
      "text/plain": "           id                       plylst_title  \\\n0       18488                      요즘 많이듣는 인디 노래   \n1       76254               살랑살랑 불어오는 바람 같은 뉴에이지   \n2       86227                   비오는날 감미롭고 우울한 재즈   \n3       87450                걸크러쉬돋는 여자보컬 락 노래 모음   \n4       24649                        퇴근 후 차분한 인디   \n...       ...                                ...   \n23010   34841                    ♥♥♥♥♥♥♥♥♥♥♥♥♥♥♥   \n23011  119043                         영원한 가왕 조용필   \n23012   65397  2015 SJF 서울 재즈 페스티벌 셋리스트 - 해외 공연팀   \n23013   79292                    회복의 찬양(스튜디오 녹음)   \n23014   81476             실용음악과 입시생들이 듣는 필수 POP.   \n\n                                     tags  \\\n0      [카페, 인디음악, 드라이브, 인디뮤직, 사랑, 이별, 인디]   \n1                            [살랑살랑, 뉴에이지]   \n2                           [비오는날, 밤, 새벽]   \n3                       [락, 락밴드, 메탈, 락음악]   \n4       [집중, 휴식, 밤, 카페, 새벽, 차분한, 조용한, 인디]   \n...                                   ...   \n23010                               [발라드]   \n23011          [자작곡, 원조, 열창, 조용필, 감동, 명곡]   \n23012      [서울재즈페스티벌, 서재페, SJF, 셋리스트, 공연]   \n23013                           [CCM, 항상]   \n23014                                 [팝]   \n\n                                                   songs  like_cnt  \\\n0      [674442, 131295, 83652, 352919, 233166, 99741,...         3   \n1      [222141, 422934, 4917, 700161, 424495, 683582,...         4   \n2      [333034, 638621, 483000, 570730, 442053, 17405...        41   \n3      [229337, 30825, 475737, 672432, 59091, 98657, ...        17   \n4      [13930, 18100, 105626, 310720, 93295, 557891, ...         5   \n...                                                  ...       ...   \n23010  [55291, 84345, 434639, 129233, 93698, 121309, ...        11   \n23011  [38369, 139236, 201546, 134358, 596576, 649107...        10   \n23012  [589131, 695266, 300481, 348950, 165299, 19520...        18   \n23013  [425704, 404399, 190558, 72325, 54248, 389972,...        67   \n23014  [306486, 535677, 316581, 413259, 695025, 48475...        82   \n\n                updt_date  \n0     2017-07-17 11:00:52  \n1     2017-07-20 13:42:37  \n2     2015-07-10 03:18:46  \n3     2017-07-10 21:30:25  \n4     2020-04-09 00:04:15  \n...                   ...  \n23010 2007-10-25 09:10:55  \n23011 2020-01-06 09:28:09  \n23012 2017-02-03 17:57:37  \n23013 2018-07-12 09:38:59  \n23014 2015-10-26 16:15:22  \n\n[23015 rows x 6 columns]",
      "text/html": "<div>\n<style scoped>\n    .dataframe tbody tr th:only-of-type {\n        vertical-align: middle;\n    }\n\n    .dataframe tbody tr th {\n        vertical-align: top;\n    }\n\n    .dataframe thead th {\n        text-align: right;\n    }\n</style>\n<table border=\"1\" class=\"dataframe\">\n  <thead>\n    <tr style=\"text-align: right;\">\n      <th></th>\n      <th>id</th>\n      <th>plylst_title</th>\n      <th>tags</th>\n      <th>songs</th>\n      <th>like_cnt</th>\n      <th>updt_date</th>\n    </tr>\n  </thead>\n  <tbody>\n    <tr>\n      <th>0</th>\n      <td>18488</td>\n      <td>요즘 많이듣는 인디 노래</td>\n      <td>[카페, 인디음악, 드라이브, 인디뮤직, 사랑, 이별, 인디]</td>\n      <td>[674442, 131295, 83652, 352919, 233166, 99741,...</td>\n      <td>3</td>\n      <td>2017-07-17 11:00:52</td>\n    </tr>\n    <tr>\n      <th>1</th>\n      <td>76254</td>\n      <td>살랑살랑 불어오는 바람 같은 뉴에이지</td>\n      <td>[살랑살랑, 뉴에이지]</td>\n      <td>[222141, 422934, 4917, 700161, 424495, 683582,...</td>\n      <td>4</td>\n      <td>2017-07-20 13:42:37</td>\n    </tr>\n    <tr>\n      <th>2</th>\n      <td>86227</td>\n      <td>비오는날 감미롭고 우울한 재즈</td>\n      <td>[비오는날, 밤, 새벽]</td>\n      <td>[333034, 638621, 483000, 570730, 442053, 17405...</td>\n      <td>41</td>\n      <td>2015-07-10 03:18:46</td>\n    </tr>\n    <tr>\n      <th>3</th>\n      <td>87450</td>\n      <td>걸크러쉬돋는 여자보컬 락 노래 모음</td>\n      <td>[락, 락밴드, 메탈, 락음악]</td>\n      <td>[229337, 30825, 475737, 672432, 59091, 98657, ...</td>\n      <td>17</td>\n      <td>2017-07-10 21:30:25</td>\n    </tr>\n    <tr>\n      <th>4</th>\n      <td>24649</td>\n      <td>퇴근 후 차분한 인디</td>\n      <td>[집중, 휴식, 밤, 카페, 새벽, 차분한, 조용한, 인디]</td>\n      <td>[13930, 18100, 105626, 310720, 93295, 557891, ...</td>\n      <td>5</td>\n      <td>2020-04-09 00:04:15</td>\n    </tr>\n    <tr>\n      <th>...</th>\n      <td>...</td>\n      <td>...</td>\n      <td>...</td>\n      <td>...</td>\n      <td>...</td>\n      <td>...</td>\n    </tr>\n    <tr>\n      <th>23010</th>\n      <td>34841</td>\n      <td>♥♥♥♥♥♥♥♥♥♥♥♥♥♥♥</td>\n      <td>[발라드]</td>\n      <td>[55291, 84345, 434639, 129233, 93698, 121309, ...</td>\n      <td>11</td>\n      <td>2007-10-25 09:10:55</td>\n    </tr>\n    <tr>\n      <th>23011</th>\n      <td>119043</td>\n      <td>영원한 가왕 조용필</td>\n      <td>[자작곡, 원조, 열창, 조용필, 감동, 명곡]</td>\n      <td>[38369, 139236, 201546, 134358, 596576, 649107...</td>\n      <td>10</td>\n      <td>2020-01-06 09:28:09</td>\n    </tr>\n    <tr>\n      <th>23012</th>\n      <td>65397</td>\n      <td>2015 SJF 서울 재즈 페스티벌 셋리스트 - 해외 공연팀</td>\n      <td>[서울재즈페스티벌, 서재페, SJF, 셋리스트, 공연]</td>\n      <td>[589131, 695266, 300481, 348950, 165299, 19520...</td>\n      <td>18</td>\n      <td>2017-02-03 17:57:37</td>\n    </tr>\n    <tr>\n      <th>23013</th>\n      <td>79292</td>\n      <td>회복의 찬양(스튜디오 녹음)</td>\n      <td>[CCM, 항상]</td>\n      <td>[425704, 404399, 190558, 72325, 54248, 389972,...</td>\n      <td>67</td>\n      <td>2018-07-12 09:38:59</td>\n    </tr>\n    <tr>\n      <th>23014</th>\n      <td>81476</td>\n      <td>실용음악과 입시생들이 듣는 필수 POP.</td>\n      <td>[팝]</td>\n      <td>[306486, 535677, 316581, 413259, 695025, 48475...</td>\n      <td>82</td>\n      <td>2015-10-26 16:15:22</td>\n    </tr>\n  </tbody>\n</table>\n<p>23015 rows × 6 columns</p>\n</div>"
     },
     "metadata": {},
     "execution_count": 11
    }
   ],
   "source": [
    "val_df = json_to_dataframe(val_json)\n",
    "val_df"
   ]
  },
  {
   "cell_type": "code",
   "execution_count": 12,
   "metadata": {
    "tags": []
   },
   "outputs": [
    {
     "output_type": "stream",
     "name": "stdout",
     "text": "<class 'pandas.core.frame.DataFrame'>\nRangeIndex: 23015 entries, 0 to 23014\nData columns (total 6 columns):\n #   Column        Non-Null Count  Dtype         \n---  ------        --------------  -----         \n 0   id            23015 non-null  int64         \n 1   plylst_title  23015 non-null  object        \n 2   tags          23015 non-null  object        \n 3   songs         23015 non-null  object        \n 4   like_cnt      23015 non-null  int64         \n 5   updt_date     23015 non-null  datetime64[ns]\ndtypes: datetime64[ns](1), int64(2), object(3)\nmemory usage: 1.1+ MB\n"
    }
   ],
   "source": [
    "val_df.info()"
   ]
  },
  {
   "cell_type": "code",
   "execution_count": 13,
   "metadata": {},
   "outputs": [
    {
     "output_type": "execute_result",
     "data": {
      "text/plain": "Empty DataFrame\nColumns: [id, plylst_title, tags, songs, like_cnt, updt_date]\nIndex: []",
      "text/html": "<div>\n<style scoped>\n    .dataframe tbody tr th:only-of-type {\n        vertical-align: middle;\n    }\n\n    .dataframe tbody tr th {\n        vertical-align: top;\n    }\n\n    .dataframe thead th {\n        text-align: right;\n    }\n</style>\n<table border=\"1\" class=\"dataframe\">\n  <thead>\n    <tr style=\"text-align: right;\">\n      <th></th>\n      <th>id</th>\n      <th>plylst_title</th>\n      <th>tags</th>\n      <th>songs</th>\n      <th>like_cnt</th>\n      <th>updt_date</th>\n    </tr>\n  </thead>\n  <tbody>\n  </tbody>\n</table>\n</div>"
     },
     "metadata": {},
     "execution_count": 13
    }
   ],
   "source": [
    "val_df[val_df.id.isin(train_df.id.unique())]"
   ]
  },
  {
   "cell_type": "code",
   "execution_count": 14,
   "metadata": {},
   "outputs": [
    {
     "output_type": "execute_result",
     "data": {
      "text/plain": "           id     plylst_title                     tags  \\\n10     107988  밤에들으면 좋은노래들 ...                    [발라드]   \n33      37188        OST 명곡 모음      [기억조작, 그땐그랬지, 기분전환]   \n36      76459            chill             [기분전환, 흔한노래]   \n42      65264  나를 사랑하지 않는 그대에게  [여름밤, 슬픔, 짝사랑, 새벽, 발라드]   \n48     111869        사랑 그리고 이별                [이별, 헤어짐]   \n...       ...              ...                      ...   \n22936    2205             트로트1                    [트로트]   \n22948  151510        친구에서 연인으로         [여행, 사랑, 설렘, 산책]   \n22970   72675    힙합패거리 전성시대 71                     [힙합]   \n22978   72463       Good Night          [힐링, 휴식, 밤, 새벽]   \n22983   15781            이별후..            [잔잔한, 추억, 회상]   \n\n                                                   songs  like_cnt  \\\n10     [651499, 181309, 217217, 476291, 707621, 64589...         0   \n33     [123648, 645489, 482903, 150297, 611706, 49267...         0   \n36     [117266, 260973, 90295, 489296, 696901, 283130...         6   \n42     [64529, 385603, 624047, 265584, 210, 266745, 6...        12   \n48     [226331, 27456, 327365, 278658, 464477, 515115...        10   \n...                                                  ...       ...   \n22936  [35848, 638330, 132604, 666824, 231868, 546740...        43   \n22948  [516676, 342677, 674580, 320019, 130110, 23993...        35   \n22970  [477964, 510984, 588832, 315072, 404135, 36267...         0   \n22978  [339492, 268175, 17558, 669346, 661454, 373893...        81   \n22983  [37709, 655756, 61873, 411717, 584779, 594592,...        11   \n\n                updt_date  \n10    2018-09-16 22:34:05  \n33    2020-02-27 21:22:11  \n36    2018-09-29 00:31:46  \n42    2017-06-08 00:47:20  \n48    2018-12-15 10:11:52  \n...                   ...  \n22936 2019-10-16 18:56:01  \n22948 2016-03-18 13:50:48  \n22970 2019-03-27 15:28:08  \n22978 2016-04-27 00:47:44  \n22983 2015-09-11 19:55:51  \n\n[1266 rows x 6 columns]",
      "text/html": "<div>\n<style scoped>\n    .dataframe tbody tr th:only-of-type {\n        vertical-align: middle;\n    }\n\n    .dataframe tbody tr th {\n        vertical-align: top;\n    }\n\n    .dataframe thead th {\n        text-align: right;\n    }\n</style>\n<table border=\"1\" class=\"dataframe\">\n  <thead>\n    <tr style=\"text-align: right;\">\n      <th></th>\n      <th>id</th>\n      <th>plylst_title</th>\n      <th>tags</th>\n      <th>songs</th>\n      <th>like_cnt</th>\n      <th>updt_date</th>\n    </tr>\n  </thead>\n  <tbody>\n    <tr>\n      <th>10</th>\n      <td>107988</td>\n      <td>밤에들으면 좋은노래들 ...</td>\n      <td>[발라드]</td>\n      <td>[651499, 181309, 217217, 476291, 707621, 64589...</td>\n      <td>0</td>\n      <td>2018-09-16 22:34:05</td>\n    </tr>\n    <tr>\n      <th>33</th>\n      <td>37188</td>\n      <td>OST 명곡 모음</td>\n      <td>[기억조작, 그땐그랬지, 기분전환]</td>\n      <td>[123648, 645489, 482903, 150297, 611706, 49267...</td>\n      <td>0</td>\n      <td>2020-02-27 21:22:11</td>\n    </tr>\n    <tr>\n      <th>36</th>\n      <td>76459</td>\n      <td>chill</td>\n      <td>[기분전환, 흔한노래]</td>\n      <td>[117266, 260973, 90295, 489296, 696901, 283130...</td>\n      <td>6</td>\n      <td>2018-09-29 00:31:46</td>\n    </tr>\n    <tr>\n      <th>42</th>\n      <td>65264</td>\n      <td>나를 사랑하지 않는 그대에게</td>\n      <td>[여름밤, 슬픔, 짝사랑, 새벽, 발라드]</td>\n      <td>[64529, 385603, 624047, 265584, 210, 266745, 6...</td>\n      <td>12</td>\n      <td>2017-06-08 00:47:20</td>\n    </tr>\n    <tr>\n      <th>48</th>\n      <td>111869</td>\n      <td>사랑 그리고 이별</td>\n      <td>[이별, 헤어짐]</td>\n      <td>[226331, 27456, 327365, 278658, 464477, 515115...</td>\n      <td>10</td>\n      <td>2018-12-15 10:11:52</td>\n    </tr>\n    <tr>\n      <th>...</th>\n      <td>...</td>\n      <td>...</td>\n      <td>...</td>\n      <td>...</td>\n      <td>...</td>\n      <td>...</td>\n    </tr>\n    <tr>\n      <th>22936</th>\n      <td>2205</td>\n      <td>트로트1</td>\n      <td>[트로트]</td>\n      <td>[35848, 638330, 132604, 666824, 231868, 546740...</td>\n      <td>43</td>\n      <td>2019-10-16 18:56:01</td>\n    </tr>\n    <tr>\n      <th>22948</th>\n      <td>151510</td>\n      <td>친구에서 연인으로</td>\n      <td>[여행, 사랑, 설렘, 산책]</td>\n      <td>[516676, 342677, 674580, 320019, 130110, 23993...</td>\n      <td>35</td>\n      <td>2016-03-18 13:50:48</td>\n    </tr>\n    <tr>\n      <th>22970</th>\n      <td>72675</td>\n      <td>힙합패거리 전성시대 71</td>\n      <td>[힙합]</td>\n      <td>[477964, 510984, 588832, 315072, 404135, 36267...</td>\n      <td>0</td>\n      <td>2019-03-27 15:28:08</td>\n    </tr>\n    <tr>\n      <th>22978</th>\n      <td>72463</td>\n      <td>Good Night</td>\n      <td>[힐링, 휴식, 밤, 새벽]</td>\n      <td>[339492, 268175, 17558, 669346, 661454, 373893...</td>\n      <td>81</td>\n      <td>2016-04-27 00:47:44</td>\n    </tr>\n    <tr>\n      <th>22983</th>\n      <td>15781</td>\n      <td>이별후..</td>\n      <td>[잔잔한, 추억, 회상]</td>\n      <td>[37709, 655756, 61873, 411717, 584779, 594592,...</td>\n      <td>11</td>\n      <td>2015-09-11 19:55:51</td>\n    </tr>\n  </tbody>\n</table>\n<p>1266 rows × 6 columns</p>\n</div>"
     },
     "metadata": {},
     "execution_count": 14
    }
   ],
   "source": [
    "val_df[val_df.plylst_title.isin(train_df.plylst_title.unique())]"
   ]
  },
  {
   "cell_type": "code",
   "execution_count": 15,
   "metadata": {},
   "outputs": [
    {
     "output_type": "execute_result",
     "data": {
      "text/plain": "           id plylst_title        tags  \\\n56020   58081        chill     [Chill]   \n61366  142273        chill     [힙합, 랩]   \n86248   41496        chill  [감성, vlog]   \n\n                                                   songs  like_cnt  \\\n56020            [160901, 70505, 646171, 364758, 427835]        43   \n61366  [3312, 356590, 388570, 208711, 491476, 606786,...       246   \n86248  [507383, 275673, 406073, 289777, 38513, 363125...        61   \n\n                updt_date  \n56020 2017-12-20 02:41:26  \n61366 2015-06-06 01:42:25  \n86248 2019-10-06 20:24:55  ",
      "text/html": "<div>\n<style scoped>\n    .dataframe tbody tr th:only-of-type {\n        vertical-align: middle;\n    }\n\n    .dataframe tbody tr th {\n        vertical-align: top;\n    }\n\n    .dataframe thead th {\n        text-align: right;\n    }\n</style>\n<table border=\"1\" class=\"dataframe\">\n  <thead>\n    <tr style=\"text-align: right;\">\n      <th></th>\n      <th>id</th>\n      <th>plylst_title</th>\n      <th>tags</th>\n      <th>songs</th>\n      <th>like_cnt</th>\n      <th>updt_date</th>\n    </tr>\n  </thead>\n  <tbody>\n    <tr>\n      <th>56020</th>\n      <td>58081</td>\n      <td>chill</td>\n      <td>[Chill]</td>\n      <td>[160901, 70505, 646171, 364758, 427835]</td>\n      <td>43</td>\n      <td>2017-12-20 02:41:26</td>\n    </tr>\n    <tr>\n      <th>61366</th>\n      <td>142273</td>\n      <td>chill</td>\n      <td>[힙합, 랩]</td>\n      <td>[3312, 356590, 388570, 208711, 491476, 606786,...</td>\n      <td>246</td>\n      <td>2015-06-06 01:42:25</td>\n    </tr>\n    <tr>\n      <th>86248</th>\n      <td>41496</td>\n      <td>chill</td>\n      <td>[감성, vlog]</td>\n      <td>[507383, 275673, 406073, 289777, 38513, 363125...</td>\n      <td>61</td>\n      <td>2019-10-06 20:24:55</td>\n    </tr>\n  </tbody>\n</table>\n</div>"
     },
     "metadata": {},
     "execution_count": 15
    }
   ],
   "source": [
    "train_df[train_df.plylst_title == 'chill']"
   ]
  },
  {
   "cell_type": "code",
   "execution_count": 16,
   "metadata": {},
   "outputs": [
    {
     "output_type": "execute_result",
     "data": {
      "text/plain": "       id plylst_title          tags  \\\n36  76459        chill  [기분전환, 흔한노래]   \n\n                                                songs  like_cnt  \\\n36  [117266, 260973, 90295, 489296, 696901, 283130...         6   \n\n             updt_date  \n36 2018-09-29 00:31:46  ",
      "text/html": "<div>\n<style scoped>\n    .dataframe tbody tr th:only-of-type {\n        vertical-align: middle;\n    }\n\n    .dataframe tbody tr th {\n        vertical-align: top;\n    }\n\n    .dataframe thead th {\n        text-align: right;\n    }\n</style>\n<table border=\"1\" class=\"dataframe\">\n  <thead>\n    <tr style=\"text-align: right;\">\n      <th></th>\n      <th>id</th>\n      <th>plylst_title</th>\n      <th>tags</th>\n      <th>songs</th>\n      <th>like_cnt</th>\n      <th>updt_date</th>\n    </tr>\n  </thead>\n  <tbody>\n    <tr>\n      <th>36</th>\n      <td>76459</td>\n      <td>chill</td>\n      <td>[기분전환, 흔한노래]</td>\n      <td>[117266, 260973, 90295, 489296, 696901, 283130...</td>\n      <td>6</td>\n      <td>2018-09-29 00:31:46</td>\n    </tr>\n  </tbody>\n</table>\n</div>"
     },
     "metadata": {},
     "execution_count": 16
    }
   ],
   "source": [
    "val_df[val_df.plylst_title == 'chill']"
   ]
  },
  {
   "cell_type": "code",
   "execution_count": 17,
   "metadata": {},
   "outputs": [],
   "source": [
    "def get_unique_value(dataframe, column, list_type=True):\n",
    "    unique_values = set()\n",
    "    if list_type:\n",
    "        for c in tqdm(dataframe[column]):\n",
    "            unique_values |= set(c)\n",
    "    else:\n",
    "        unique_values = set(dataframe[column].unique())\n",
    "    \n",
    "    return unique_values"
   ]
  },
  {
   "cell_type": "code",
   "execution_count": 18,
   "metadata": {
    "tags": []
   },
   "outputs": [
    {
     "output_type": "stream",
     "name": "stderr",
     "text": "100%|██████████| 92056/92056 [00:00<00:00, 648579.16it/s]\n"
    },
    {
     "output_type": "execute_result",
     "data": {
      "text/plain": "25480"
     },
     "metadata": {},
     "execution_count": 18
    }
   ],
   "source": [
    "unique_tags_train = get_unique_value(train_df, 'tags')\n",
    "len(unique_tags_train)"
   ]
  },
  {
   "cell_type": "code",
   "execution_count": 19,
   "metadata": {},
   "outputs": [
    {
     "output_type": "execute_result",
     "data": {
      "text/plain": "Empty DataFrame\nColumns: [id, plylst_title, tags, songs, like_cnt, updt_date]\nIndex: []",
      "text/html": "<div>\n<style scoped>\n    .dataframe tbody tr th:only-of-type {\n        vertical-align: middle;\n    }\n\n    .dataframe tbody tr th {\n        vertical-align: top;\n    }\n\n    .dataframe thead th {\n        text-align: right;\n    }\n</style>\n<table border=\"1\" class=\"dataframe\">\n  <thead>\n    <tr style=\"text-align: right;\">\n      <th></th>\n      <th>id</th>\n      <th>plylst_title</th>\n      <th>tags</th>\n      <th>songs</th>\n      <th>like_cnt</th>\n      <th>updt_date</th>\n    </tr>\n  </thead>\n  <tbody>\n  </tbody>\n</table>\n</div>"
     },
     "metadata": {},
     "execution_count": 19
    }
   ],
   "source": [
    "train_df[train_df.tags.apply(len) == 0]"
   ]
  },
  {
   "cell_type": "code",
   "execution_count": 20,
   "metadata": {},
   "outputs": [
    {
     "output_type": "execute_result",
     "data": {
      "text/plain": "          id            plylst_title  \\\n88542  95032  어떻게 떴냐고? 답은 바로 TikTok!   \n\n                                             tags  \\\n88542  [힙합, , 흑인음악, 힙합엘이, 힙합추천, 틱톡, 외힙, HIPHOPLE]   \n\n                                                   songs  like_cnt  \\\n88542  [253222, 270262, 301533, 136007, 238347, 13384...         7   \n\n                updt_date  \n88542 2020-01-08 11:19:11  ",
      "text/html": "<div>\n<style scoped>\n    .dataframe tbody tr th:only-of-type {\n        vertical-align: middle;\n    }\n\n    .dataframe tbody tr th {\n        vertical-align: top;\n    }\n\n    .dataframe thead th {\n        text-align: right;\n    }\n</style>\n<table border=\"1\" class=\"dataframe\">\n  <thead>\n    <tr style=\"text-align: right;\">\n      <th></th>\n      <th>id</th>\n      <th>plylst_title</th>\n      <th>tags</th>\n      <th>songs</th>\n      <th>like_cnt</th>\n      <th>updt_date</th>\n    </tr>\n  </thead>\n  <tbody>\n    <tr>\n      <th>88542</th>\n      <td>95032</td>\n      <td>어떻게 떴냐고? 답은 바로 TikTok!</td>\n      <td>[힙합, , 흑인음악, 힙합엘이, 힙합추천, 틱톡, 외힙, HIPHOPLE]</td>\n      <td>[253222, 270262, 301533, 136007, 238347, 13384...</td>\n      <td>7</td>\n      <td>2020-01-08 11:19:11</td>\n    </tr>\n  </tbody>\n</table>\n</div>"
     },
     "metadata": {},
     "execution_count": 20
    }
   ],
   "source": [
    "train_df[train_df.tags.apply(lambda x: '' in x)]"
   ]
  },
  {
   "cell_type": "code",
   "execution_count": 21,
   "metadata": {
    "tags": []
   },
   "outputs": [
    {
     "output_type": "stream",
     "name": "stderr",
     "text": "100%|██████████| 23015/23015 [00:00<00:00, 556318.94it/s]\n"
    },
    {
     "output_type": "execute_result",
     "data": {
      "text/plain": "10802"
     },
     "metadata": {},
     "execution_count": 21
    }
   ],
   "source": [
    "unique_tags_val = get_unique_value(val_df, 'tags')\n",
    "len(unique_tags_val)"
   ]
  },
  {
   "cell_type": "code",
   "execution_count": 22,
   "metadata": {},
   "outputs": [
    {
     "output_type": "execute_result",
     "data": {
      "text/plain": "29160"
     },
     "metadata": {},
     "execution_count": 22
    }
   ],
   "source": [
    "unique_tags = unique_tags_train | unique_tags_val\n",
    "len(unique_tags)"
   ]
  },
  {
   "cell_type": "code",
   "execution_count": 23,
   "metadata": {
    "tags": []
   },
   "outputs": [
    {
     "output_type": "stream",
     "name": "stderr",
     "text": "100%|██████████| 92056/92056 [00:00<00:00, 115939.70it/s]\n"
    },
    {
     "output_type": "execute_result",
     "data": {
      "text/plain": "549729"
     },
     "metadata": {},
     "execution_count": 23
    }
   ],
   "source": [
    "unique_songs_train = get_unique_value(train_df, 'songs')\n",
    "len(unique_songs_train)"
   ]
  },
  {
   "cell_type": "code",
   "execution_count": 24,
   "metadata": {
    "tags": []
   },
   "outputs": [
    {
     "output_type": "stream",
     "name": "stderr",
     "text": "100%|██████████| 23015/23015 [00:00<00:00, 116713.12it/s]\n"
    },
    {
     "output_type": "execute_result",
     "data": {
      "text/plain": "261843"
     },
     "metadata": {},
     "execution_count": 24
    }
   ],
   "source": [
    "unique_songs_val = get_unique_value(val_df, 'songs')\n",
    "len(unique_songs_val)"
   ]
  },
  {
   "cell_type": "code",
   "execution_count": 25,
   "metadata": {},
   "outputs": [
    {
     "output_type": "execute_result",
     "data": {
      "text/plain": "615142"
     },
     "metadata": {},
     "execution_count": 25
    }
   ],
   "source": [
    "unique_songs = unique_songs_train | unique_songs_val\n",
    "len(unique_songs)"
   ]
  },
  {
   "cell_type": "code",
   "execution_count": 26,
   "metadata": {
    "tags": []
   },
   "outputs": [
    {
     "output_type": "stream",
     "name": "stderr",
     "text": "100%|██████████| 92056/92056 [00:00<00:00, 342545.56it/s]\n"
    },
    {
     "output_type": "execute_result",
     "data": {
      "text/plain": "2502"
     },
     "metadata": {},
     "execution_count": 26
    }
   ],
   "source": [
    "unique_playlists_train = get_unique_value(train_df, 'plylst_title')\n",
    "len(unique_playlists_train)"
   ]
  },
  {
   "cell_type": "code",
   "execution_count": 27,
   "metadata": {
    "tags": []
   },
   "outputs": [
    {
     "output_type": "stream",
     "name": "stderr",
     "text": "100%|██████████| 23015/23015 [00:00<00:00, 342383.36it/s]\n"
    },
    {
     "output_type": "execute_result",
     "data": {
      "text/plain": "1842"
     },
     "metadata": {},
     "execution_count": 27
    }
   ],
   "source": [
    "unique_playlists_val = get_unique_value(val_df, 'plylst_title')\n",
    "len(unique_playlists_val)"
   ]
  },
  {
   "cell_type": "code",
   "execution_count": 28,
   "metadata": {},
   "outputs": [
    {
     "output_type": "execute_result",
     "data": {
      "text/plain": "2626"
     },
     "metadata": {},
     "execution_count": 28
    }
   ],
   "source": [
    "unique_playlists = unique_playlists_train | unique_playlists_val\n",
    "len(unique_playlists)"
   ]
  },
  {
   "cell_type": "code",
   "execution_count": 273,
   "metadata": {},
   "outputs": [],
   "source": [
    "def make_item_index_dictionary(items):\n",
    "    item2idx = {item:idx for idx, item in enumerate(items)}\n",
    "    idx2item = {idx:item for idx, item in enumerate(items)}\n",
    "    return item2idx, idx2item"
   ]
  },
  {
   "cell_type": "code",
   "execution_count": 30,
   "metadata": {},
   "outputs": [],
   "source": [
    "tag2idx, idx2tag = make_item_index_dictionary(unique_tags)\n",
    "song2idx, idx2song = make_item_index_dictionary(unique_songs)"
   ]
  },
  {
   "cell_type": "code",
   "execution_count": 32,
   "metadata": {},
   "outputs": [
    {
     "output_type": "execute_result",
     "data": {
      "text/plain": "615142"
     },
     "metadata": {},
     "execution_count": 32
    }
   ],
   "source": [
    "len(song2idx)"
   ]
  },
  {
   "cell_type": "code",
   "execution_count": 241,
   "metadata": {},
   "outputs": [],
   "source": [
    "def _dataframe_to_user_item_matrix(dataframe, item, playlist2idx, item2idx):\n",
    "    assert item in ['tags', 'songs']\n",
    "\n",
    "    matrix_shape = (len(playlist2idx), len(item2idx))\n",
    "\n",
    "    rows = list()\n",
    "    cols = list()\n",
    "    data = list()\n",
    "\n",
    "    for idx, item_list in tqdm(enumerate(dataframe[item])):\n",
    "        for i in item_list:\n",
    "            rows.append(playlist2idx[dataframe.loc[idx, 'id']])\n",
    "            cols.append(item2idx[i])   \n",
    "            data.append(1)  \n",
    "    \n",
    "    rows = np.array(rows)\n",
    "    cols = np.array(cols)\n",
    "    data = np.array(data)\n",
    "\n",
    "    user_item_matrix = csr_matrix((data, (rows, cols)), shape=matrix_shape)\n",
    "\n",
    "    return user_item_matrix"
   ]
  },
  {
   "cell_type": "code",
   "execution_count": 242,
   "metadata": {},
   "outputs": [],
   "source": [
    "def dataframe_to_user_item_matrix(dataframe_main, dataframe_secondary=None, item='tags', playlist2idx=None, item2idx=None):\n",
    "    assert item in ['tags', 'songs']\n",
    "\n",
    "    # Only For Training Data\n",
    "    if dataframe_secondary is not None:\n",
    "        unique_items_main = get_unique_value(dataframe_main, item)\n",
    "        unique_items_secondary = get_unique_value(dataframe_secondary, item)\n",
    "        unique_items = unique_items_main | unique_items_secondary\n",
    "\n",
    "        item2idx, idx2item = make_item_index_dictionary(unique_items)\n",
    "\n",
    "    if not playlist2idx:\n",
    "        unique_playlists = get_unique_value(dataframe_main, 'id', False)\n",
    "        playlist2idx, idx2playlist = make_item_index_dictionary(unique_playlists)\n",
    "    \n",
    "    user_item_matrix = _dataframe_to_user_item_matrix(dataframe_main, item, playlist2idx, item2idx)\n",
    "\n",
    "    return (playlist2idx, idx2playlist), (item2idx, idx2item), user_item_matrix\n"
   ]
  },
  {
   "cell_type": "code",
   "execution_count": 41,
   "metadata": {},
   "outputs": [],
   "source": [
    "# def dataframe_to_user_item_matrix(dataframe_train, dataframe_test, item='tags', playlist2idx=None):\n",
    "#     assert item in ['tags', 'songs']\n",
    "\n",
    "#     unique_items_train = get_unique_value(dataframe_train, item)\n",
    "#     unique_items_test = get_unique_value(dataframe_test, item)\n",
    "#     unique_items = unique_items_train | unique_items_test\n",
    "\n",
    "#     item2idx = item_to_index(unique_items)\n",
    "\n",
    "#     if not playlist2idx:\n",
    "#         unique_playlists = get_unique_value(dataframe_train, 'id', False)\n",
    "#         playlist2idx = item_to_index(unique_playlists)\n",
    "\n",
    "\n",
    "#     rows = list()\n",
    "#     cols = list()\n",
    "#     data = list()\n",
    "#     for idx, item_list in tqdm(enumerate(dataframe_train[item])):\n",
    "#         for i in item_list:\n",
    "#             rows.append(playlist2idx[dataframe_train.loc[idx, 'id']])\n",
    "#             cols.append(item2idx[i])   \n",
    "#             data.append(1)  \n",
    "    \n",
    "#     rows = np.array(rows)\n",
    "#     cols = np.array(cols)\n",
    "#     data = np.array(data)\n",
    "\n",
    "#     user_item_matrix = csr_matrix((data, (rows, cols)))\n",
    "\n",
    "#     return playlist2idx, item2idx, user_item_matrix\n"
   ]
  },
  {
   "cell_type": "code",
   "execution_count": 243,
   "metadata": {
    "tags": []
   },
   "outputs": [
    {
     "output_type": "stream",
     "name": "stderr",
     "text": "100%|██████████| 92056/92056 [00:00<00:00, 169981.16it/s]\n100%|██████████| 23015/23015 [00:00<00:00, 167667.25it/s]\n92056it [00:03, 23350.25it/s]\n100%|██████████| 92056/92056 [00:00<00:00, 105558.28it/s]\n100%|██████████| 23015/23015 [00:00<00:00, 112281.92it/s]\n92056it [00:41, 2239.15it/s]\n"
    }
   ],
   "source": [
    "(playlist2idx_train, idx2playlist_train), (tag2idx, idx2tag), playlist_tag_matrix_train = dataframe_to_user_item_matrix(\n",
    "    train_df, \n",
    "    val_df, \n",
    "    item='tags'\n",
    ")\n",
    "\n",
    "(_, _), (song2idx, idx2song), playlist_song_matrix_train = dataframe_to_user_item_matrix(\n",
    "    train_df, \n",
    "    val_df, \n",
    "    item='songs', \n",
    "    playlist2idx=playlist2idx_train\n",
    ")"
   ]
  },
  {
   "cell_type": "code",
   "execution_count": 244,
   "metadata": {},
   "outputs": [
    {
     "output_type": "execute_result",
     "data": {
      "text/plain": "(29160, 615142)"
     },
     "metadata": {},
     "execution_count": 244
    }
   ],
   "source": [
    "(len(tag2idx), len(song2idx))"
   ]
  },
  {
   "cell_type": "code",
   "execution_count": 245,
   "metadata": {},
   "outputs": [
    {
     "output_type": "execute_result",
     "data": {
      "text/plain": "<92056x29160 sparse matrix of type '<class 'numpy.longlong'>'\n\twith 380794 stored elements in Compressed Sparse Row format>"
     },
     "metadata": {},
     "execution_count": 245
    }
   ],
   "source": [
    "playlist_tag_matrix_train"
   ]
  },
  {
   "cell_type": "code",
   "execution_count": 246,
   "metadata": {},
   "outputs": [
    {
     "output_type": "execute_result",
     "data": {
      "text/plain": "<92056x615142 sparse matrix of type '<class 'numpy.longlong'>'\n\twith 4239978 stored elements in Compressed Sparse Row format>"
     },
     "metadata": {},
     "execution_count": 246
    }
   ],
   "source": [
    "playlist_song_matrix_train"
   ]
  },
  {
   "cell_type": "code",
   "execution_count": 247,
   "metadata": {
    "tags": []
   },
   "outputs": [
    {
     "output_type": "stream",
     "name": "stderr",
     "text": "23015it [00:00, 23653.18it/s]\n23015it [00:10, 2252.56it/s]\n"
    }
   ],
   "source": [
    "(playlist2idx_val, idx2playlist_val), (_, _), playlist_tag_matrix_val = dataframe_to_user_item_matrix(\n",
    "    val_df, \n",
    "    item='tags', \n",
    "    item2idx=tag2idx\n",
    ")\n",
    "\n",
    "(_, _), (_, _), playlist_song_matrix_val = dataframe_to_user_item_matrix(\n",
    "    val_df, \n",
    "    item='songs', \n",
    "    playlist2idx=playlist2idx_val, \n",
    "    item2idx=song2idx\n",
    ")"
   ]
  },
  {
   "cell_type": "code",
   "execution_count": 248,
   "metadata": {},
   "outputs": [
    {
     "output_type": "execute_result",
     "data": {
      "text/plain": "(29160, 615142)"
     },
     "metadata": {},
     "execution_count": 248
    }
   ],
   "source": [
    "(len(tag2idx), len(song2idx))"
   ]
  },
  {
   "cell_type": "code",
   "execution_count": 249,
   "metadata": {},
   "outputs": [
    {
     "output_type": "execute_result",
     "data": {
      "text/plain": "<23015x29160 sparse matrix of type '<class 'numpy.longlong'>'\n\twith 95537 stored elements in Compressed Sparse Row format>"
     },
     "metadata": {},
     "execution_count": 249
    }
   ],
   "source": [
    "playlist_tag_matrix_val"
   ]
  },
  {
   "cell_type": "code",
   "execution_count": 250,
   "metadata": {},
   "outputs": [
    {
     "output_type": "execute_result",
     "data": {
      "text/plain": "<23015x615142 sparse matrix of type '<class 'numpy.longlong'>'\n\twith 1045893 stored elements in Compressed Sparse Row format>"
     },
     "metadata": {},
     "execution_count": 250
    }
   ],
   "source": [
    "playlist_song_matrix_val"
   ]
  },
  {
   "cell_type": "code",
   "execution_count": 251,
   "metadata": {},
   "outputs": [],
   "source": [
    "def matrix_factorization(user_item_matrix, n_components=100):\n",
    "    model = NMF(n_components=n_components, init='random', verbose=True, tol=5e-2, max_iter=100, random_state=2020, shuffle=True)\n",
    "    model.fit(user_item_matrix)\n",
    "    W = model.transform(user_item_matrix)\n",
    "    H = model.components_\n",
    "\n",
    "    return model, W, H"
   ]
  },
  {
   "cell_type": "code",
   "execution_count": 252,
   "metadata": {
    "tags": []
   },
   "outputs": [
    {
     "output_type": "stream",
     "name": "stdout",
     "text": "violation: 1.0\nviolation: 10.031219999727462\nviolation: 5.032633123240272\nviolation: 2.8606228865707415\nviolation: 1.6938233208402944\nviolation: 1.0858468999396413\nviolation: 0.716443114992063\nviolation: 0.5437725627962213\nviolation: 0.40790838284373365\nviolation: 0.31043250916154463\nviolation: 0.23624660844762002\nviolation: 0.1954251238372654\nviolation: 0.20152163718599497\nviolation: 0.2041245655965717\nviolation: 0.20306654000778487\nviolation: 0.18096686496449652\nviolation: 0.13602163037228346\nviolation: 0.10729017552135867\nviolation: 0.10736056600160906\nviolation: 0.10056312679932365\nviolation: 0.11121065578247828\nviolation: 0.1231458809807175\nviolation: 0.1595481385942812\nviolation: 0.19544652703972082\nviolation: 0.1433736581997101\nviolation: 0.0905547414501437\nviolation: 0.08779578021394215\nviolation: 0.10127077057019854\nviolation: 0.10141061530167898\nviolation: 0.11532596334873058\nviolation: 0.11349834666322749\nviolation: 0.11053876034435081\nviolation: 0.11382956726666008\nviolation: 0.10053393143617567\nviolation: 0.08056548596931891\nviolation: 0.07286878055473774\nviolation: 0.06375025317076703\nviolation: 0.056369239598644594\nviolation: 0.05856719762047707\nviolation: 0.061104136650530466\nviolation: 0.06186911610426745\nviolation: 0.06594648230853438\nviolation: 0.07573308112547378\nviolation: 0.07093179869474475\nviolation: 0.07506891742351925\nviolation: 0.06589926839530007\nviolation: 0.07324026126359087\nviolation: 0.07434740699873198\nviolation: 0.07411457836623178\nviolation: 0.08340940898071268\nviolation: 0.09952574807793989\nviolation: 0.09325780770369022\nviolation: 0.1072439238075392\nviolation: 0.09560951173355907\nviolation: 0.09209998881838169\nviolation: 0.09669401152712528\nviolation: 0.07913416700816167\nviolation: 0.08364464586883454\nviolation: 0.0673867974860812\nviolation: 0.06033994717488419\nviolation: 0.06355105417797197\nviolation: 0.060554103728781526\nviolation: 0.06616559749078685\nviolation: 0.06359851426006988\nviolation: 0.07766393292789368\nviolation: 0.07481628386368544\nviolation: 0.08345766859848\nviolation: 0.08260281785363689\nviolation: 0.06791171233021455\nviolation: 0.07874593573834633\nviolation: 0.09036522948024442\nviolation: 0.09536658399368747\nviolation: 0.09581977384221145\nviolation: 0.11105905132054367\nviolation: 0.09928326760773608\nviolation: 0.07770592790778959\nviolation: 0.0730163467725009\nviolation: 0.05696609103142801\nviolation: 0.04974983019949342\nConverged at iteration 80\nviolation: 1.0\nviolation: 0.04823401859836165\nConverged at iteration 3\n"
    }
   ],
   "source": [
    "model_tag, W_tag, H_tag = matrix_factorization(playlist_tag_matrix_train)"
   ]
  },
  {
   "cell_type": "code",
   "execution_count": 253,
   "metadata": {},
   "outputs": [],
   "source": [
    "with open('checkpoints/model-v1/model-v1-tag-nmf.pkl', 'wb') as f:\n",
    "    pickle.dump(model_tag, f)"
   ]
  },
  {
   "cell_type": "code",
   "execution_count": 254,
   "metadata": {
    "tags": []
   },
   "outputs": [
    {
     "output_type": "stream",
     "name": "stdout",
     "text": "violation: 1.0\nviolation: 6.923231816431041\nviolation: 3.3249560160491276\nviolation: 1.836157124128675\nviolation: 1.192462362749963\nviolation: 0.8870859938251491\nviolation: 0.7160244072257216\nviolation: 0.5674657692555136\nviolation: 0.4685138372836856\nviolation: 0.38442684241115394\nviolation: 0.3072268213123712\nviolation: 0.2339058114900291\nviolation: 0.18140244528733387\nviolation: 0.14508710410606468\nviolation: 0.12660973133082834\nviolation: 0.10956747778808056\nviolation: 0.09671586499308156\nviolation: 0.08992692162203479\nviolation: 0.08293266889109506\nviolation: 0.07543562868468079\nviolation: 0.06925456725729934\nviolation: 0.06148600280308796\nviolation: 0.057046846547261165\nviolation: 0.052241434203767645\nviolation: 0.04947411992956252\nConverged at iteration 26\nviolation: 1.0\nviolation: 0.4546062627449705\nviolation: 0.0927027897338968\nviolation: 0.023141694374950592\nConverged at iteration 5\n"
    }
   ],
   "source": [
    "model_song, W_song, H_song = matrix_factorization(playlist_song_matrix_train)"
   ]
  },
  {
   "cell_type": "code",
   "execution_count": 255,
   "metadata": {},
   "outputs": [],
   "source": [
    "with open('checkpoints/model-v1/model-v1-song-nmf.pkl', 'wb') as f:\n",
    "    pickle.dump(model_song, f)"
   ]
  },
  {
   "cell_type": "code",
   "execution_count": 256,
   "metadata": {},
   "outputs": [],
   "source": [
    "with open('checkpoints/model-v1/model-v1-tag-nmf.pkl', 'rb') as f:\n",
    "    model_tag = pickle.load(f)"
   ]
  },
  {
   "cell_type": "code",
   "execution_count": 257,
   "metadata": {},
   "outputs": [],
   "source": [
    "with open('checkpoints/model-v1/model-v1-song-nmf.pkl', 'rb') as f:\n",
    "    model_song = pickle.load(f)"
   ]
  },
  {
   "cell_type": "code",
   "execution_count": 258,
   "metadata": {
    "tags": []
   },
   "outputs": [
    {
     "output_type": "stream",
     "name": "stdout",
     "text": "violation: 1.0\nviolation: 0.04823401859836165\nConverged at iteration 3\nviolation: 1.0\nviolation: 0.4546062627449705\nviolation: 0.0927027897338968\nviolation: 0.023141694374950592\nConverged at iteration 5\n"
    }
   ],
   "source": [
    "W_tag = model_tag.transform(playlist_tag_matrix_train)\n",
    "H_tag = model_tag.components_\n",
    "\n",
    "W_song = model_song.transform(playlist_song_matrix_train)\n",
    "H_song = model_song.components_"
   ]
  },
  {
   "cell_type": "code",
   "execution_count": 43,
   "metadata": {},
   "outputs": [],
   "source": [
    "def calculate_r_precision(user_item_matrix, W, H):\n",
    "    nonzero_r = user_item_matrix.nonzero()[0]\n",
    "    nonzero_c = user_item_matrix.nonzero()[1]\n",
    "\n",
    "    scores = list()\n",
    "    for r in tqdm(range(user_item_matrix.shape[0])):\n",
    "        nonzeros = user_item_matrix[r, :].nonzero()[1]\n",
    "        n = len(nonzeros)\n",
    "        top_n = np.argsort(np.dot(W[r, :], H))[::-1][:n]\n",
    "\n",
    "        counter = len(set(nonzeros) & set(top_n))\n",
    "        \n",
    "        score = counter / n if n != 0 else 0\n",
    "        scores.append(score)\n",
    "    \n",
    "    scoes = np.array(scores)\n",
    "    return np.mean(scores)"
   ]
  },
  {
   "cell_type": "code",
   "execution_count": 44,
   "metadata": {
    "tags": []
   },
   "outputs": [
    {
     "output_type": "stream",
     "name": "stderr",
     "text": "100%|██████████| 92056/92056 [02:54<00:00, 526.46it/s]\n"
    },
    {
     "output_type": "execute_result",
     "data": {
      "text/plain": "0.7194591662537806"
     },
     "metadata": {},
     "execution_count": 44
    }
   ],
   "source": [
    "calculate_r_precision(playlist_tag_matrix, W_tag, H_tag)"
   ]
  },
  {
   "cell_type": "code",
   "execution_count": 79,
   "metadata": {
    "tags": []
   },
   "outputs": [
    {
     "output_type": "stream",
     "name": "stdout",
     "text": "(Original, Imputation)\n(63658, 11325)\t1\t1.51312672300729e-07\n[ 9083  9188 11325 13133 18418]\n[12329 23059 24122  2051 28211 27644 26988  4981 15674 21939]\n[3.17208519e-04 2.47513216e-04 2.14783588e-04 1.95777539e-04\n 8.88423381e-05 8.86667415e-05 8.45644842e-05 5.96200557e-05\n 3.83380207e-05 2.83520515e-05]\n(35462, 9267)\t1\t0.0\n[ 1269  1546  4177  6472  9267  9348 17441 17742 18418 21530]\n[28211 10208  6820 16003 25366 13754  5386 23817 28349 17662]\n[0.00095426 0.00092932 0.00085408 0.00082481 0.00067106 0.00066365\n 0.0006533  0.00060422 0.00057475 0.00044031]\n(57972, 20439)\t1\t1.7953526191052652e-06\n[20439]\n[27612 10785 19640  9958  9838 14327  3781 11598 19083  7158]\n[0.00070063 0.00068209 0.00044556 0.00037935 0.00036877 0.00028476\n 0.00021908 0.00021876 0.00017476 0.00017113]\n(60408, 12587)\t1\t0.0\n[ 2834  4513  5132  9497 10953 10966 12587 17557]\n[25366  9270 23059 27387  2988  6623 23869  9958 26791 10208]\n[0.00270246 0.00206454 0.00171561 0.00149258 0.00130031 0.00119891\n 0.00108964 0.00107435 0.00106841 0.00097255]\n(93679, 7903)\t1\t2.6368891027901256e-07\n[ 2393  4177  6472  7903 11325 12941 13133 18418 24980 27609]\n[22191  8757 27756 18300  2238 17237  4854 24924 12881 18533]\n[0.02434325 0.01985644 0.01513103 0.0103457  0.00709164 0.00628432\n 0.00550548 0.00462538 0.00387638 0.00309785]\n(50045, 10046)\t1\t0.0\n[10046 11570]\n[14927 10967  8040 23975  8148 15674 15318 15069 17874 12178]\n[6.01628404e-04 5.84689179e-04 2.62042244e-04 2.18153966e-04\n 1.33174908e-04 9.39719309e-05 6.49005633e-05 4.88804315e-05\n 2.08927281e-05 1.52410747e-05]\n(49284, 12689)\t1\t2.5666153159167627e-06\n[ 6401 11325 12689 13100 18418 18492 19612 24346 24801]\n[ 7236  8688 21939 20077 18915  9518 13998 20215 28876 14327]\n[0.00228766 0.00206028 0.00177952 0.00127462 0.00076127 0.0006388\n 0.00054908 0.00041905 0.00034933 0.00033446]\n(33746, 23602)\t1\t3.842589242777862e-06\n[ 6472 23602 27609]\n[ 6820 16003 28349 24759 16486 12827  8541 23574 11592 23059]\n[0.00108888 0.00105296 0.00072961 0.00048147 0.00041994 0.00035343\n 0.0003478  0.00032188 0.00032058 0.00021656]\n(99597, 22359)\t1\t3.213269653948045e-06\n[ 6203  8178 11757 22359 24266 26435 27344]\n[24557  8688 28211  9958 22191  7236 28876 19083 17662  9518]\n[0.00239942 0.00238835 0.00142621 0.0010458  0.00097558 0.00096293\n 0.00081267 0.00080298 0.00079506 0.00078702]\n(48371, 24839)\t1\t9.067978615954235e-05\n[ 1323  5189 14989 22042 23602 24578 24839 24921 26910]\n[19083 28880 19784 15069 12976  6991 14397  6820 16003 19640]\n[0.00469147 0.00437784 0.00390066 0.00237395 0.00236955 0.00214414\n 0.00168083 0.00162374 0.00159304 0.0015458 ]\n"
    }
   ],
   "source": [
    "nonzero_r = playlist_tag_matrix.nonzero()[0]\n",
    "nonzero_c = playlist_tag_matrix.nonzero()[1]\n",
    "\n",
    "random_idx = np.random.choice(len(nonzero_r), size=10)\n",
    "\n",
    "print('(Original, Imputation)')\n",
    "for idx in random_idx:\n",
    "    r = nonzero_r[idx]\n",
    "    c = nonzero_c[idx]\n",
    "    print('({}, {})\\t{}\\t{}'.format(r, c, playlist_tag_matrix[r, c], np.dot(W_tag[r, :], H_tag[:, c])))\n",
    "\n",
    "    print(playlist_tag_matrix[r, :].nonzero()[1])\n",
    "    top10 = np.argsort(np.dot(W_tag[r, :], H_tag))[::-1][:10]\n",
    "    print(top10)\n",
    "    print(np.dot(W_tag[r, :], H_tag[:, top10]))\n"
   ]
  },
  {
   "cell_type": "code",
   "execution_count": 80,
   "metadata": {
    "tags": []
   },
   "outputs": [
    {
     "output_type": "stream",
     "name": "stdout",
     "text": "(Original, Imputation)\n(72400, 280260)\t1\t0.5078473044400594\n[ 11461  13019  33702  37350  40655  58139  68491 100083 102168 122626\n 152045 161496 161847 170670 174380 185143 187241 195258 201278 204863\n 230191 230691 237231 242489 263221 280260 293499 310516 312846 315498\n 320843 323143 334446 336086 338911 353799 366022 368297 385228 394292\n 394609 398371 402573 461974 470492 480326 501633 501822 502925 542180\n 547194 550113 585743 591131 601442]\n[187241 334446 591131   1309  68491 185143 280260 204863 353799 589759]\n[0.52363754 0.51353657 0.51072696 0.51050572 0.50933978 0.50843665\n 0.5078473  0.4423804  0.44071618 0.43988013]\n(34717, 457214)\t1\t0.12847192488276127\n[   216   1068   4424   6770   7565   7583   9675  10175  10194  11347\n  12225  15922  17353  18013  18146  18444  19022  20240  20789  22427\n  23078  24030  24753  30315  30887  30890  31401  31404  34631  35986\n  36101  38347  38781  39001  39092  39439  42117  42332  43124  43650\n  45314  49721  51218  51376  51530  52614  52726  53623  55848  58055\n  58139  58677  59706  59910  64567  64773  65468  67528  67646  70070\n  70478  71430  71463  71716  72793  74767  75080  76868  76913  76914\n  78641  80132  80598  81349  81991  82593  82631  82835  83424  83857\n  85518  88996  89175  90058  90758  92251  92383  92964  93164  93340\n  93776  95479  96021  97308  97773  98436  98986  99610  99704 101281\n 102122 102343 102439 102488 102881 103252 103370 104519 104531 106341\n 106518 108144 108972 109751 110046 110453 113171 114530 115441 115776\n 116296 118136 120197 121514 122530 125865 125914 125936 126152 127823\n 129741 130753 133093 133192 133228 133735 133903 134876 137940 138592\n 139359 139557 140596 140757 142594 143302 143335 143700 143706 144388\n 145696 148783 148920 149751 150225 150312 150940 150945 151045 151176\n 151413 151515 152334 152339 152909 153201 153789 155959 156589 157556\n 158267 160442 160491 161180 163476 163628 163837 163855 164126 166323\n 166989 168701 169543 170460 171834 171882 173076 173721 174365 176935\n 177370 177607 177782 178032 178050 178459 180557 183257 183406 183736\n 185977 186284 186330 188637 189237 189512 190005 191262 192787 192875\n 194141 194519 198054 198546 202317 202340 204587 205071 206063 206335\n 206611 206912 207327 207531 208551 211239 214726 214934 215191 215794\n 216612 219719 221074 223227 223387 224195 226064 226523 226638 227870\n 227970 227984 228377 229330 230502 232032 232482 234875 235255 235961\n 236280 237310 238240 238329 239124 240943 240970 241087 242720 245897\n 246020 247369 247974 248877 249379 254831 256586 258529 259224 260179\n 262742 263045 264520 264609 266829 268510 268664 271662 273400 274055\n 275818 276789 277428 277439 278088 279736 281434 281724 282372 282807\n 283089 283360 283464 283591 284122 285445 285996 287465 287635 287659\n 288470 288755 288914 289464 290375 294275 296026 297043 297443 297856\n 298878 301416 302629 305223 305445 305623 308810 311780 312998 314120\n 315083 315299 315628 315692 316106 319866 320937 321619 321976 322016\n 322253 322500 322690 323283 325585 326893 327725 328933 331667 332775\n 334950 336839 336883 337311 338568 338594 338714 339503 340402 340586\n 341893 344773 345034 345432 345472 347551 348603 348760 348782 350100\n 353889 354714 356075 356781 357737 357906 358567 358899 359204 359341\n 359600 360419 360548 360672 364234 365083 366225 366377 367130 367953\n 368137 368539 369150 369476 370005 370098 370213 371116 373365 373909\n 375434 375462 375765 378081 378595 379077 380912 381568 381623 381816\n 382120 382153 383239 387503 389597 389883 390185 392410 393133 393204\n 395723 396041 396186 397641 401781 402219 403540 403652 404017 406922\n 407471 407693 413374 414643 414757 414887 416738 417879 418095 419655\n 420318 423003 423758 424389 424517 424611 426172 426214 427357 429876\n 430068 431045 431769 432493 438515 440062 440669 440996 442028 442787\n 442932 443098 443911 445134 445378 446214 446468 448113 449699 450603\n 451194 452338 455608 455644 457214 460376 460564 461221 462517 462867\n 463866 464678 465363 465611 467652 468486 474405 474950 475184 476179\n 477259 477746 477947 479584 480188 480411 481342 481585 482586 482776\n 485094 486514 488020 491705 493150 494986 499142 501814 502353 502423\n 502651 502667 503055 503320 503599 505505 508116 508498 509856 509940\n 510165 511341 512022 512065 513230 513589 514401 514489 514704 515377\n 515412 515702 517576 521415 521809 523991 526112 528930 529586 529696\n 530799 532050 532601 533506 533634 534867 535026 536976 539491 541012\n 541186 541246 543259 543657 543909 544286 544529 544568 544629 546396\n 547194 547906 549653 552160 555148 557205 558907 559010 559900 560793\n 562059 563287 564382 565145 565871 566016 568857 569608 569708 570984\n 571854 572912 572921 573050 573615 573755 575234 578047 578723 579309\n 579556 581837 582862 583444 586374 586985 590315 592325 593037 593689\n 594154 594203 595434 598551 598993 600669 602496 603277 606629 611331\n 612262 613443 614306 614432 614817 615015]\n[543909 508116  98986 102168 150945 530799 148017 460564 541012 183736]\n[1.24898877 1.24710442 1.2456277  1.18884237 1.18820347 1.12195181\n 1.11311863 1.10989187 1.10733975 1.08382027]\n(63084, 423849)\t1\t0.0005249096926412363\n[  2918  15305  22561  26249  27975  29636  30182  36839  37125  42165\n  42553  48933  50285  54913  55832  59389  61203  63663  64424  67672\n  68001  73365  73813  76630  76934  81982  82800  92595  95848  97650\n 103252 106341 119942 123237 126698 128175 141733 145730 150461 152201\n 154192 160574 164544 164963 172956 175499 177167 180083 184900 187776\n 193703 203624 205859 207553 209840 210345 211147 213699 214335 216289\n 231377 234654 235065 236307 238710 240042 240484 241273 245880 247715\n 247762 249232 249663 250994 251873 253156 253278 254845 256665 272619\n 276391 281333 283113 284644 287212 288159 298119 299965 301559 303609\n 305427 311428 312407 316294 317424 321445 324306 325674 325735 327020\n 327124 327994 333625 334176 336521 336959 337205 338796 346906 347767\n 350725 353857 354268 355271 361454 365191 366966 368814 383042 392657\n 394663 396041 398358 398369 399753 406729 406732 407471 408125 408346\n 422655 423849 426214 436053 436064 440893 443322 443719 448113 448268\n 458221 460843 461148 464771 468482 472452 479350 482956 487953 491612\n 498228 501320 503909 504330 506919 509229 509427 510603 511611 517118\n 518527 520342 520899 521165 527185 528278 530591 531056 536890 537347\n 541324 543568 543577 545710 550508 551487 552307 552646 555683 557276\n 558513 558585 560364 562829 563623 574098 575891 576312 578002 579240\n 579945 580635 581758 582997 583169 591342 594409 595990 604518 608558]\n[354542 477259 298878 396041 125732  67646 375434 460843 106341 283464]\n[0.31509571 0.29782859 0.24790298 0.24384954 0.21728689 0.20968169\n 0.20065618 0.19521638 0.18620629 0.1729104 ]\n(40844, 603639)\t1\t0.0001786646134101604\n[  2128   4539   7779   7833  10274  11426  12867  15774  24891  24945\n  31805  34747  34760  40697  42287  45540  53201  55561  58412  60154\n  61264  61498  62856  66549  71716  72139  76123  76914  78376  95015\n  98967 101653 106734 114986 119951 120648 121289 121936 123224 125822\n 125865 126475 132465 133947 140653 145672 146730 147262 150781 167643\n 172011 173541 176935 183140 186854 190436 195976 196622 200884 201000\n 202958 207325 218211 218611 219216 221529 225558 229527 230025 230088\n 233179 239247 239895 241151 242886 246401 255199 255293 255485 255608\n 255821 259482 260242 261803 265510 275152 284822 298965 306327 307574\n 309177 310329 312111 316210 316288 319866 320463 322368 323764 330727\n 334395 334807 336179 336489 337477 338857 339692 349207 349539 354032\n 356075 358975 361706 366944 370005 370235 374733 378984 379336 379508\n 381977 386035 387380 389904 394724 397302 399807 403600 403833 405440\n 406269 407471 409371 415007 415934 422706 424479 426117 426262 429267\n 431006 440064 441627 445134 447829 448373 448924 458394 463240 469660\n 471637 472657 474640 480159 482366 489949 490868 492446 493088 495104\n 499616 504234 506494 507791 510113 515338 517785 518290 525128 539268\n 544005 545192 548411 552922 555148 557553 559180 559653 560560 560600\n 562319 569806 571416 577931 579436 581315 588291 590752 592900 593173\n 593657 595659 600724 602274 602783 603639 605765 607691 610057 614093]\n[323170  10175 336883 150940 353857 473307  64567 337776 125865 356075]\n[0.19316848 0.17009986 0.16559051 0.16399688 0.16349039 0.15491098\n 0.15116316 0.14334891 0.14185911 0.13628913]\n(74826, 495461)\t1\t0.08324052161027211\n[    53   5544   7810  10162  11461  25154  27838  28174  31709  32634\n  33330  57294  61282  82808  86607  94738  95667 101281 109622 114847\n 119271 123800 147724 153201 161374 167897 168947 189476 196836 201843\n 202428 203410 203721 205971 213164 231770 244972 273352 283256 287927\n 294723 295310 302610 320040 330567 341368 350116 353889 354736 369278\n 383239 384886 397641 402529 408346 411256 412281 412375 429318 436043\n 451398 455754 461948 466526 472235 482592 486442 495461 503599 514896\n 531052 536417 537036 539384 587765 588484 591909 593235 596005 607728\n 612213 614817]\n[101281 132485 295310  65812  51121  29274 259072 259832 396321 472217]\n[0.72524532 0.46995074 0.4241668  0.35958806 0.32136706 0.300021\n 0.29484483 0.29410636 0.29086506 0.2715132 ]\n(16133, 536366)\t1\t7.482297145244603e-09\n[ 13435  19558  20266  25728  35675  36142  36897  46556  47853  49268\n  52230  53149  53695  76154  77701  86504  86529  90871  92850  94547\n 106782 112064 123048 136638 140769 142338 151581 152788 152833 158955\n 161610 165099 170938 171509 179171 184708 189827 214215 215062 223433\n 231812 242266 242905 252433 259732 266552 276513 276597 292125 293736\n 304289 306709 319286 331635 346178 347844 351424 360500 361341 370087\n 373139 387455 395059 424397 429163 435457 440908 445363 449722 452367\n 461501 465621 466522 475391 476972 499470 501534 505203 509852 513809\n 526318 530951 535702 536366 538576 540033 542811 551347 562123 562205\n 566096 568801 569191 573322 575650 585983 595255 596323 602696 606356]\n[517166 558236 346374  25774 364155 106527 253454 480201 110052 181706]\n[0.00100447 0.0009424  0.00078108 0.0006937  0.00064546 0.0006323\n 0.00060063 0.00057876 0.00057193 0.00052896]\n(60493, 147933)\t1\t1.0702396461066679e-06\n[ 17918  46898  74352 110682 147933 170922 233879 251121 286048 288702\n 373490 410838 434463 451675 463746 484380 581211 586967]\n[576244 122425 154225 543856 318790 430657 596707  35780  10071 517166]\n[0.00208892 0.00185086 0.00167699 0.00148847 0.00147444 0.00146029\n 0.00134885 0.00127151 0.00126463 0.00125036]\n(47260, 437837)\t1\t0.002961728824491568\n[ 27271  35463  49914  63167  93191 133287 153353 166741 180579 193976\n 198357 219752 270876 305120 319937 326885 333379 375548 385964 400018\n 402790 434521 437837 457277 462652 503054 503937 509204 514468 514769\n 522546 530006 530014 541404 560013 608263 609766]\n[365549  42160 434521 152294 399154 353382 452368 193172 609766 462652]\n[0.12268475 0.11579781 0.10955908 0.10776055 0.09599244 0.09309246\n 0.09041422 0.08779231 0.08475711 0.08273529]\n(66969, 252520)\t1\t0.00010157294279077085\n[ 23515  41706  43108  56767  60513 132063 152203 220411 239620 252520\n 285536 289027 320374 363862 406480 429084 444556 461375 470654 474312]\n[517166 558236 346374  25774 110052 106527 480201 253454 237375 181706]\n[0.01080642 0.01014813 0.00841516 0.00750412 0.00692258 0.00685594\n 0.0065006  0.00623424 0.0058449  0.00563193]\n(1519, 369278)\t1\t0.07985655552224696\n[  4424  75523  95196 148308 283256 326567 341053 369278 378808 515377\n 587458 609554]\n[369278 151176 431997 566016  58677 586589   1068 502423 147724 544286]\n[0.07985656 0.06281351 0.05967376 0.05773012 0.05760299 0.05643083\n 0.05325333 0.05043018 0.04880988 0.04766594]\n"
    }
   ],
   "source": [
    "nonzero_r = playlist_song_matrix.nonzero()[0]\n",
    "nonzero_c = playlist_song_matrix.nonzero()[1]\n",
    "\n",
    "random_idx = np.random.choice(len(nonzero_r), size=10)\n",
    "\n",
    "print('(Original, Imputation)')\n",
    "for idx in random_idx:\n",
    "    r = nonzero_r[idx]\n",
    "    c = nonzero_c[idx]\n",
    "    print('({}, {})\\t{}\\t{}'.format(r, c, playlist_song_matrix[r, c], np.dot(W_song[r, :], H_song[:, c])))\n",
    "\n",
    "    print(playlist_song_matrix[r, :].nonzero()[1])\n",
    "    top10 = np.argsort(np.dot(W_song[r, :], H_song))[::-1][:10]\n",
    "    print(top10)\n",
    "    print(np.dot(W_song[r, :], H_song[:, top10]))\n"
   ]
  },
  {
   "cell_type": "code",
   "execution_count": 259,
   "metadata": {},
   "outputs": [],
   "source": [
    "def calculate_cosine_similarity(A, B):\n",
    "    similarity = cosine_similarity(A, B, dense_output=False)\n",
    "    return similarity"
   ]
  },
  {
   "cell_type": "code",
   "execution_count": 262,
   "metadata": {},
   "outputs": [],
   "source": [
    "def find_neigbors(user_item_matrix_src, user_item_matrix_dst, k=10):\n",
    "    similarity_matrix = calculate_cosine_similarity(user_item_matrix_src, user_item_matrix_dst)\n",
    "    neighbors = list()\n",
    "    for r in tqdm(range(similarity_matrix.shape[0])):\n",
    "        neighbors.append(np.argsort(similarity_matrix[r, :].toarray()[0])[::-1][:k])\n",
    "    \n",
    "    neighbors = np.array(neighbors)\n",
    "    return similarity_matrix, neighbors"
   ]
  },
  {
   "cell_type": "code",
   "execution_count": 263,
   "metadata": {
    "tags": []
   },
   "outputs": [
    {
     "output_type": "stream",
     "name": "stderr",
     "text": "100%|██████████| 23015/23015 [01:18<00:00, 291.98it/s]\n100%|██████████| 23015/23015 [01:03<00:00, 360.47it/s]\n"
    }
   ],
   "source": [
    "_, neighbors_tag = find_neigbors(playlist_tag_matrix_val, playlist_tag_matrix_train)\n",
    "_, neighbors_song = find_neigbors(playlist_song_matrix_val, playlist_song_matrix_train)"
   ]
  },
  {
   "cell_type": "code",
   "execution_count": 299,
   "metadata": {},
   "outputs": [
    {
     "output_type": "execute_result",
     "data": {
      "text/plain": "(23015, 10)"
     },
     "metadata": {},
     "execution_count": 299
    }
   ],
   "source": [
    "neighbors_tag.shape"
   ]
  },
  {
   "cell_type": "code",
   "execution_count": 300,
   "metadata": {},
   "outputs": [
    {
     "output_type": "execute_result",
     "data": {
      "text/plain": "(23015, 10)"
     },
     "metadata": {},
     "execution_count": 300
    }
   ],
   "source": [
    "neighbors_song.shape"
   ]
  },
  {
   "cell_type": "code",
   "execution_count": 297,
   "metadata": {},
   "outputs": [],
   "source": [
    "def recommend_item(neighbors, user_item_matrix_src, user_item_matrix_dst, n):\n",
    "    recommendations = list()\n",
    "    for idx, neighbor in tqdm(enumerate(neighbors)):\n",
    "        ratings = np.sum(user_item_matrix_dst[neighbor, :].toarray(), axis=0)\n",
    "        top_rating = np.argsort(ratings)[::-1][:n]\n",
    "        recommendations.append(np.array(top_rating))\n",
    "    recommendations = np.array(recommendations)\n",
    "    return recommendations"
   ]
  },
  {
   "cell_type": "code",
   "execution_count": 298,
   "metadata": {
    "tags": []
   },
   "outputs": [
    {
     "output_type": "stream",
     "name": "stderr",
     "text": "23015it [00:16, 1400.85it/s]\n23015it [08:03, 47.57it/s]\n"
    }
   ],
   "source": [
    "recommendations_tag = recommend_item(neighbors_tag, playlist_tag_matrix_val, playlist_tag_matrix_train, 100)\n",
    "recommendations_song = recommend_item(neighbors_song, playlist_song_matrix_val, playlist_song_matrix_train, 200)"
   ]
  },
  {
   "cell_type": "code",
   "execution_count": 301,
   "metadata": {},
   "outputs": [
    {
     "output_type": "execute_result",
     "data": {
      "text/plain": "(23015, 100)"
     },
     "metadata": {},
     "execution_count": 301
    }
   ],
   "source": [
    "recommendations_tag.shape"
   ]
  },
  {
   "cell_type": "code",
   "execution_count": 302,
   "metadata": {},
   "outputs": [
    {
     "output_type": "execute_result",
     "data": {
      "text/plain": "(23015, 200)"
     },
     "metadata": {},
     "execution_count": 302
    }
   ],
   "source": [
    "recommendations_song.shape"
   ]
  },
  {
   "cell_type": "code",
   "execution_count": 235,
   "metadata": {
    "tags": []
   },
   "outputs": [
    {
     "output_type": "stream",
     "name": "stdout",
     "text": "[28500 22462 29159  9722  9712  9713  9714  9715  9716  9717]\n[[1. 1. 0. 0. 0. 0. 0. 0. 0. 0.]]\n[16361  4049 27691 18937  4267 14529 10751  6954 14440 15860]\n[[0.8 0.7 0.3 0.2 0.2 0.2 0.1 0.1 0.1 0.1]]\n[23213 29159  9721  9710  9711  9712  9713  9714  9715  9716]\n[[1. 0. 0. 0. 0. 0. 0. 0. 0. 0.]]\n[22281  4758 28820  4583  6538 29159  9712  9713  9714  9715]\n[[1.  1.  1.  0.1 0.1 0.  0.  0.  0.  0. ]]\n[19591  5115 19727  5019 26040 17718 19346 11218 18686  9723]\n[[1.  1.  0.1 0.1 0.1 0.1 0.1 0.1 0.1 0. ]]\n[23078 29159  9722  9711  9712  9713  9714  9715  9716  9717]\n[[1. 0. 0. 0. 0. 0. 0. 0. 0. 0.]]\n[22997 11862  2838  9607  8780  6104  3127 15988  7824  2041]\n[[1.  1.  1.  0.8 0.8 0.5 0.5 0.2 0.2 0.2]]\n[  692  5115   887 19346   651   855  9716  9717  9718  9719]\n[[0.8 0.8 0.1 0.1 0.1 0.1 0.  0.  0.  0. ]]\n[ 3127 11862  2041 22997  3372  2838 27924 22281 17362 13696]\n[[1.  1.  1.  0.9 0.2 0.2 0.1 0.1 0.1 0.1]]\n[ 2838 10660 29159  9724  9713  9714  9715  9716  9717  9718]\n[[1. 1. 0. 0. 0. 0. 0. 0. 0. 0.]]\n"
    }
   ],
   "source": [
    "for idx in range(playlist_tag_matrix_val.shape[0]):\n",
    "    neighbor = np.mean(playlist_tag_matrix_train[n[idx], :], axis=0)[0]\n",
    "    top = np.argsort(np.array(neighbor))[0][::-1][:100]\n",
    "        print(top)\n",
    "        print(neighbor[0, top])\n",
    "\n"
   ]
  },
  {
   "cell_type": "code",
   "execution_count": 223,
   "metadata": {},
   "outputs": [
    {
     "output_type": "execute_result",
     "data": {
      "text/plain": "(92056, 29160)"
     },
     "metadata": {},
     "execution_count": 223
    }
   ],
   "source": [
    "playlist_tag_matrix_train.shape"
   ]
  },
  {
   "cell_type": "code",
   "execution_count": 227,
   "metadata": {},
   "outputs": [
    {
     "output_type": "execute_result",
     "data": {
      "text/plain": "(23015, 10)"
     },
     "metadata": {},
     "execution_count": 227
    }
   ],
   "source": [
    "n.shape"
   ]
  },
  {
   "cell_type": "code",
   "execution_count": 325,
   "metadata": {},
   "outputs": [],
   "source": [
    "idx2playlist_val = {idx:playlist for playlist, idx in playlist2idx_val.items()}\n",
    "idx2tag = {idx:tag for tag, idx in tag2idx.items()}\n",
    "idx2song = {idx:song for song, idx in song2idx.items()}"
   ]
  },
  {
   "cell_type": "code",
   "execution_count": 329,
   "metadata": {},
   "outputs": [],
   "source": [
    "def restore_item(idx, idx2item, list_type=True):\n",
    "    if list_type:\n",
    "        return list(map(lambda x: [idx2item[i] for i in x], idx))\n",
    "    else:\n",
    "        return list(map(lambda x: idx2item[x], idx))"
   ]
  },
  {
   "cell_type": "code",
   "execution_count": 332,
   "metadata": {},
   "outputs": [],
   "source": [
    "def write_answer(recommendations_tag, recommendations_song, idx2playlist, idx2song, idx2tag):\n",
    "    \n",
    "    n_data = recommendations_tag.shape[0]\n",
    "\n",
    "    playlists = restore_item(range(n_data), idx2playlist, False)\n",
    "    tags = restore_item(recommendations_tag, idx2tag)\n",
    "    songs = restore_item(recommendations_song, idx2song)\n",
    "\n",
    "    answer = list()\n",
    "\n",
    "    for i, t, s in tqdm(zip(playlists, tags, songs)):\n",
    "        answer.append({'id': i, 'tags': t, 'songs': s})\n",
    "\n",
    "    return answer"
   ]
  },
  {
   "cell_type": "code",
   "execution_count": 333,
   "metadata": {
    "tags": []
   },
   "outputs": [
    {
     "output_type": "stream",
     "name": "stderr",
     "text": "23015it [00:00, 569734.98it/s]\n"
    }
   ],
   "source": [
    "answer = write_answer(recommendations_tag, recommendations_song, idx2playlist_val, idx2song, idx2tag)"
   ]
  },
  {
   "cell_type": "code",
   "execution_count": null,
   "metadata": {},
   "outputs": [],
   "source": []
  }
 ],
 "metadata": {
  "language_info": {
   "codemirror_mode": {
    "name": "ipython",
    "version": 3
   },
   "file_extension": ".py",
   "mimetype": "text/x-python",
   "name": "python",
   "nbconvert_exporter": "python",
   "pygments_lexer": "ipython3",
   "version": "3.7.4-final"
  },
  "orig_nbformat": 2,
  "kernelspec": {
   "name": "python37464bitvenvvenv77235a9261d1435da9b22f1d2e41fd2d",
   "display_name": "Python 3.7.4 64-bit ('venv': venv)"
  }
 },
 "nbformat": 4,
 "nbformat_minor": 2
}