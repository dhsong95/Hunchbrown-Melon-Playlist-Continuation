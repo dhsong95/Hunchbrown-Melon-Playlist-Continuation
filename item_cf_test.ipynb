{
 "cells": [
  {
   "cell_type": "code",
   "execution_count": 26,
   "metadata": {},
   "outputs": [],
   "source": [
    "# -*- coding: utf-8 -*-\n",
    "\n",
    "from tqdm import tqdm\n",
    "\n",
    "from utils.process_json import load_json\n",
    "from utils.process_json import write_json\n",
    "\n",
    "from utils.preprocessing import to_dataframe\n",
    "from utils.preprocessing import get_item_index_dictionary\n",
    "from utils.preprocessing import to_sparse_matrix\n",
    "from utils.preprocessing import transform_idf\n",
    "\n",
    "from utils.modeling import calculate_cosine_similarity\n",
    "from utils.modeling import rate_per_playlist\n",
    "\n",
    "\n",
    "class ItemCF:\n",
    "    def __init__(self, idf=True):\n",
    "        # options\n",
    "        self.idf = idf\n",
    "\n",
    "        # number of data\n",
    "        self.n_train = 0\n",
    "        self.n_test = 0\n",
    "\n",
    "        # data dictionary\n",
    "        self.tag2idx = dict()\n",
    "        self.song2idx = dict()\n",
    "        self.playlist2idx = dict()\n",
    "\n",
    "        # data\n",
    "        self.pt_train = None\n",
    "        self.ps_train = None\n",
    "        self.pt_test = None\n",
    "        self.ps_test = None\n",
    "\n",
    "        self.transformer_tag = None\n",
    "        self.transformer_song = None\n",
    "\n",
    "        # item-by-item similarity\n",
    "        self.tt_similarity = None\n",
    "        self.ss_similarity = None\n",
    "\n",
    "        self.neighbors_tag = None\n",
    "        self.neighbors_song = None\n",
    "\n",
    "        self.ratings_tag = list()\n",
    "        self.ratings_song = list()\n",
    "\n",
    "    def preprocess(self, train, test):\n",
    "        train = to_dataframe(train)\n",
    "        test = to_dataframe(test)\n",
    "\n",
    "        self.n_train = len(train)\n",
    "        self.n_test = len(test)\n",
    "\n",
    "        self.tag2idx = get_item_index_dictionary(train, test, 'tags')\n",
    "        self.song2idx = get_item_index_dictionary(train, test, 'songs')\n",
    "        self.playlist2idx = get_item_index_dictionary(train, test, 'id')\n",
    "\n",
    "        self.pt_train = to_sparse_matrix(train, self.playlist2idx, self.tag2idx, 'tags')\n",
    "        if self.idf:\n",
    "            self.transformer_tag, _ = transform_idf(self.pt_train, False)\n",
    "        self.pt_test = to_sparse_matrix(test, self.playlist2idx, self.tag2idx, 'tags', correction=self.n_train)\n",
    "\n",
    "        self.ps_train = to_sparse_matrix(train, self.playlist2idx, self.song2idx, 'songs')\n",
    "        if self.idf:\n",
    "            self.transformer_song, _ = transform_idf(self.ps_train, False)\n",
    "        self.ps_test = to_sparse_matrix(test, self.playlist2idx, self.song2idx, 'songs', correction=self.n_train)\n",
    "        \n",
    "\n",
    "    def train(self):\n",
    "        self.tt_similarity = calculate_cosine_similarity(self.pt_train.T)\n",
    "        self.ss_similarity = calculate_cosine_similarity(self.ps_train.T)\n",
    "\n",
    "        self.neighbors_tag = self.tt_similarity.toarray().argsort(axis=-1)\n",
    "        self.neighbors_song = self.tt_similarity.toarray().argsort(axis=-1)\n",
    "\n",
    "    def predict(self):\n",
    "        predictions = list()\n",
    "\n",
    "        idx2tag = {idx:tag for tag, idx in self.tag2idx.items()}\n",
    "        idx2song = {idx:song for song, idx in self.song2idx.items()}\n",
    "        idx2playlist = {idx-self.n_train:playlist for playlist, idx in self.playlist2idx.items() if idx >= self.n_train}\n",
    "\n",
    "        assert self.pt_test.shape[0] == self.ps_test.shape[0]\n",
    "\n",
    "        for pid in tqdm(range(self.n_test)):\n",
    "            playlist = idx2playlist[pid]\n",
    "\n",
    "            rating = rate_per_playlist(\n",
    "                self.pt_test[pid, :].nonzero()[1], \n",
    "                self.tt_similarity, \n",
    "                self.transformer_tag.idf_, \n",
    "                len(self.tag2idx)\n",
    "            )\n",
    "            self.ratings_tag.append(rating)\n",
    "\n",
    "            self.ratings_song.append(rate_per_playlist(\n",
    "                self.ps_test[pid, :].nonzero()[1], \n",
    "                self.ss_similarity, \n",
    "                self.transformer_song.idf_, \n",
    "                len(self.song2idx)\n",
    "            ))\n",
    "        \n",
    "        return self.ratings_tag, self.ratings_song\n",
    "  "
   ]
  },
  {
   "cell_type": "code",
   "execution_count": 27,
   "metadata": {
    "tags": []
   },
   "outputs": [
    {
     "output_type": "stream",
     "name": "stderr",
     "text": "100%|██████████| 9205/9205 [00:00<00:00, 640582.84it/s]Loading train file...\nLoading test file...\nPreprocessing data...\n\n100%|██████████| 2302/2302 [00:00<00:00, 604854.21it/s]\n100%|██████████| 11507/11507 [00:00<00:00, 799044.01it/s]\n100%|██████████| 11507/11507 [00:00<00:00, 112340.02it/s]\n100%|██████████| 9205/9205 [00:00<00:00, 45257.48it/s]\n100%|██████████| 2302/2302 [00:00<00:00, 45925.95it/s]\n100%|██████████| 9205/9205 [00:00<00:00, 24863.26it/s]\n100%|██████████| 2302/2302 [00:00<00:00, 34593.13it/s]\nTraining model...\n  0%|          | 0/2302 [00:00<?, ?it/s]Rating data for recommendation...\n\n"
    },
    {
     "output_type": "error",
     "ename": "TypeError",
     "evalue": "'csr_matrix' object cannot be interpreted as an integer",
     "traceback": [
      "\u001b[0;31m---------------------------------------------------------------------------\u001b[0m",
      "\u001b[0;31mTypeError\u001b[0m                                 Traceback (most recent call last)",
      "\u001b[0;32m<ipython-input-27-ee9ae8600da2>\u001b[0m in \u001b[0;36m<module>\u001b[0;34m\u001b[0m\n\u001b[1;32m     23\u001b[0m \u001b[0mmodel\u001b[0m\u001b[0;34m.\u001b[0m\u001b[0mtrain\u001b[0m\u001b[0;34m(\u001b[0m\u001b[0;34m)\u001b[0m\u001b[0;34m\u001b[0m\u001b[0;34m\u001b[0m\u001b[0m\n\u001b[1;32m     24\u001b[0m \u001b[0mprint\u001b[0m\u001b[0;34m(\u001b[0m\u001b[0;34m'Rating data for recommendation...'\u001b[0m\u001b[0;34m)\u001b[0m\u001b[0;34m\u001b[0m\u001b[0;34m\u001b[0m\u001b[0m\n\u001b[0;32m---> 25\u001b[0;31m \u001b[0mratings_tag\u001b[0m\u001b[0;34m,\u001b[0m \u001b[0mratings_song\u001b[0m \u001b[0;34m=\u001b[0m \u001b[0mmodel\u001b[0m\u001b[0;34m.\u001b[0m\u001b[0mpredict\u001b[0m\u001b[0;34m(\u001b[0m\u001b[0;34m)\u001b[0m\u001b[0;34m\u001b[0m\u001b[0;34m\u001b[0m\u001b[0m\n\u001b[0m\u001b[1;32m     26\u001b[0m \u001b[0;34m\u001b[0m\u001b[0m\n\u001b[1;32m     27\u001b[0m \u001b[0midx2tag\u001b[0m \u001b[0;34m=\u001b[0m \u001b[0;34m{\u001b[0m\u001b[0midx\u001b[0m\u001b[0;34m:\u001b[0m\u001b[0mtag\u001b[0m \u001b[0;32mfor\u001b[0m \u001b[0mtag\u001b[0m\u001b[0;34m,\u001b[0m \u001b[0midx\u001b[0m \u001b[0;32min\u001b[0m \u001b[0mmodel\u001b[0m\u001b[0;34m.\u001b[0m\u001b[0mtag2idx\u001b[0m\u001b[0;34m.\u001b[0m\u001b[0mitems\u001b[0m\u001b[0;34m(\u001b[0m\u001b[0;34m)\u001b[0m\u001b[0;34m}\u001b[0m\u001b[0;34m\u001b[0m\u001b[0;34m\u001b[0m\u001b[0m\n",
      "\u001b[0;32m~/Workspaces/Projects/Hunchbrown-Melon-Playlist-Continuation/methods/item_cf.py\u001b[0m in \u001b[0;36mpredict\u001b[0;34m(self)\u001b[0m\n\u001b[1;32m     98\u001b[0m                 \u001b[0mself\u001b[0m\u001b[0;34m.\u001b[0m\u001b[0mss_similarity\u001b[0m\u001b[0;34m,\u001b[0m\u001b[0;34m\u001b[0m\u001b[0;34m\u001b[0m\u001b[0m\n\u001b[1;32m     99\u001b[0m                 \u001b[0mself\u001b[0m\u001b[0;34m.\u001b[0m\u001b[0mtransformer_song\u001b[0m\u001b[0;34m.\u001b[0m\u001b[0midf_\u001b[0m\u001b[0;34m,\u001b[0m\u001b[0;34m\u001b[0m\u001b[0;34m\u001b[0m\u001b[0m\n\u001b[0;32m--> 100\u001b[0;31m                 len(self.song2idx))\n\u001b[0m\u001b[1;32m    101\u001b[0m             )\n\u001b[1;32m    102\u001b[0m \u001b[0;34m\u001b[0m\u001b[0m\n",
      "\u001b[0;32m~/Workspaces/Projects/Hunchbrown-Melon-Playlist-Continuation/utils/modeling.py\u001b[0m in \u001b[0;36mrate_per_playlist\u001b[0;34m(items, similarity, idf, n)\u001b[0m\n\u001b[1;32m     16\u001b[0m     \u001b[0mrating\u001b[0m \u001b[0;34m=\u001b[0m \u001b[0mnp\u001b[0m\u001b[0;34m.\u001b[0m\u001b[0mzeros\u001b[0m\u001b[0;34m(\u001b[0m\u001b[0mn\u001b[0m\u001b[0;34m)\u001b[0m\u001b[0;34m\u001b[0m\u001b[0;34m\u001b[0m\u001b[0m\n\u001b[1;32m     17\u001b[0m     \u001b[0;32mfor\u001b[0m \u001b[0mitem\u001b[0m \u001b[0;32min\u001b[0m \u001b[0mitems\u001b[0m\u001b[0;34m:\u001b[0m\u001b[0;34m\u001b[0m\u001b[0;34m\u001b[0m\u001b[0m\n\u001b[0;32m---> 18\u001b[0;31m         \u001b[0mnp\u001b[0m\u001b[0;34m.\u001b[0m\u001b[0msum\u001b[0m\u001b[0;34m(\u001b[0m\u001b[0mrating\u001b[0m\u001b[0;34m,\u001b[0m \u001b[0;34m(\u001b[0m\u001b[0msimilarity\u001b[0m\u001b[0;34m[\u001b[0m\u001b[0mitem\u001b[0m\u001b[0;34m,\u001b[0m \u001b[0;34m:\u001b[0m\u001b[0;34m]\u001b[0m \u001b[0;34m*\u001b[0m \u001b[0midf\u001b[0m\u001b[0;34m[\u001b[0m\u001b[0mitem\u001b[0m\u001b[0;34m]\u001b[0m\u001b[0;34m)\u001b[0m\u001b[0;34m)\u001b[0m\u001b[0;34m\u001b[0m\u001b[0;34m\u001b[0m\u001b[0m\n\u001b[0m\u001b[1;32m     19\u001b[0m     \u001b[0;32mreturn\u001b[0m \u001b[0mnp\u001b[0m\u001b[0;34m.\u001b[0m\u001b[0marray\u001b[0m\u001b[0;34m(\u001b[0m\u001b[0mrating\u001b[0m\u001b[0;34m)\u001b[0m\u001b[0;34m\u001b[0m\u001b[0;34m\u001b[0m\u001b[0m\n",
      "\u001b[0;32m<__array_function__ internals>\u001b[0m in \u001b[0;36msum\u001b[0;34m(*args, **kwargs)\u001b[0m\n",
      "\u001b[0;32m~/Workspaces/Projects/Hunchbrown-Melon-Playlist-Continuation/venv/lib/python3.7/site-packages/numpy/core/fromnumeric.py\u001b[0m in \u001b[0;36msum\u001b[0;34m(a, axis, dtype, out, keepdims, initial, where)\u001b[0m\n\u001b[1;32m   2227\u001b[0m \u001b[0;34m\u001b[0m\u001b[0m\n\u001b[1;32m   2228\u001b[0m     return _wrapreduction(a, np.add, 'sum', axis, dtype, out, keepdims=keepdims,\n\u001b[0;32m-> 2229\u001b[0;31m                           initial=initial, where=where)\n\u001b[0m\u001b[1;32m   2230\u001b[0m \u001b[0;34m\u001b[0m\u001b[0m\n\u001b[1;32m   2231\u001b[0m \u001b[0;34m\u001b[0m\u001b[0m\n",
      "\u001b[0;32m~/Workspaces/Projects/Hunchbrown-Melon-Playlist-Continuation/venv/lib/python3.7/site-packages/numpy/core/fromnumeric.py\u001b[0m in \u001b[0;36m_wrapreduction\u001b[0;34m(obj, ufunc, method, axis, dtype, out, **kwargs)\u001b[0m\n\u001b[1;32m     88\u001b[0m                 \u001b[0;32mreturn\u001b[0m \u001b[0mreduction\u001b[0m\u001b[0;34m(\u001b[0m\u001b[0maxis\u001b[0m\u001b[0;34m=\u001b[0m\u001b[0maxis\u001b[0m\u001b[0;34m,\u001b[0m \u001b[0mout\u001b[0m\u001b[0;34m=\u001b[0m\u001b[0mout\u001b[0m\u001b[0;34m,\u001b[0m \u001b[0;34m**\u001b[0m\u001b[0mpasskwargs\u001b[0m\u001b[0;34m)\u001b[0m\u001b[0;34m\u001b[0m\u001b[0;34m\u001b[0m\u001b[0m\n\u001b[1;32m     89\u001b[0m \u001b[0;34m\u001b[0m\u001b[0m\n\u001b[0;32m---> 90\u001b[0;31m     \u001b[0;32mreturn\u001b[0m \u001b[0mufunc\u001b[0m\u001b[0;34m.\u001b[0m\u001b[0mreduce\u001b[0m\u001b[0;34m(\u001b[0m\u001b[0mobj\u001b[0m\u001b[0;34m,\u001b[0m \u001b[0maxis\u001b[0m\u001b[0;34m,\u001b[0m \u001b[0mdtype\u001b[0m\u001b[0;34m,\u001b[0m \u001b[0mout\u001b[0m\u001b[0;34m,\u001b[0m \u001b[0;34m**\u001b[0m\u001b[0mpasskwargs\u001b[0m\u001b[0;34m)\u001b[0m\u001b[0;34m\u001b[0m\u001b[0;34m\u001b[0m\u001b[0m\n\u001b[0m\u001b[1;32m     91\u001b[0m \u001b[0;34m\u001b[0m\u001b[0m\n\u001b[1;32m     92\u001b[0m \u001b[0;34m\u001b[0m\u001b[0m\n",
      "\u001b[0;31mTypeError\u001b[0m: 'csr_matrix' object cannot be interpreted as an integer"
     ]
    }
   ],
   "source": [
    "# -*- coding: utf-8 -*-\n",
    "import fire\n",
    "from tqdm import tqdm\n",
    "\n",
    "from utils.process_json import load_json\n",
    "from utils.process_json import write_json\n",
    "\n",
    "from methods.item_cf import ItemCF\n",
    "\n",
    "train_fname='arena_data/orig/train.json'\n",
    "test_fname='arena_data/questions/val.json'\n",
    "\n",
    "print(\"Loading train file...\")\n",
    "train = load_json(train_fname)\n",
    "\n",
    "print(\"Loading test file...\")\n",
    "test = load_json(test_fname)\n",
    "\n",
    "model = ItemCF()\n",
    "print('Preprocessing data...')\n",
    "model.preprocess(train, test)\n",
    "print('Training model...')\n",
    "model.train()\n",
    "print('Rating data for recommendation...')\n",
    "ratings_tag, ratings_song = model.predict()\n",
    "\n",
    "idx2tag = {idx:tag for tag, idx in model.tag2idx.items()}\n",
    "idx2song = {idx:song for song, idx in model.song2idx.items()}\n",
    "idx2playlist = {idx-model.n_train:playlist for playlist, idx in model.playlist2idx.items() if idx >= model.n_train}\n",
    "\n",
    "answers = []\n",
    "\n",
    "print(\"Generating answers...\")\n",
    "for idx in tqdm(range(model.n_test)):\n",
    "    print('-----------------------------------------------')\n",
    "    playlist = idx2playlist[idx]\n",
    "\n",
    "    rating_tag = ratings_tag[idx]\n",
    "    rating_song = ratings_song[idx]\n",
    "\n",
    "    print(type(rating_tag))\n",
    "\n",
    "    if sum(rating_tag) == 0:\n",
    "        tag_ids = list(model.transformer_tag.idf_.argsort()[:10])\n",
    "    else:\n",
    "        tag_ids = list()\n",
    "        for tid in rating_tag.argsort()[0, ::-1]:\n",
    "            if rating_tag[tid] == 0 or len(tag_ids) == 10:\n",
    "                break\n",
    "\n",
    "            if tid not in list(model.pt_test[idx, :].nonzero()[1]):\n",
    "                tag_ids.append(tid)\n",
    "\n",
    "        m = len(tag_ids)\n",
    "        if m < 10:\n",
    "            tag_ids += list(model.transformer_tag.idf_.argsort()[:10-m])\n",
    "    \n",
    "    tags = [idx2tag[tid] for tid in tag_ids]\n",
    "\n",
    "    if sum(rating_song) == 0:\n",
    "        song_ids = list(model.transformer_song.idf_.argsort()[:100])\n",
    "    else:\n",
    "        song_ids = list()\n",
    "        for sid in rating_song.argsort()[0, ::-1]:\n",
    "            if rating_song[sid] == 0 or len(song_ids) == 100:\n",
    "                break\n",
    "\n",
    "            if sid not in list(model.ps_test[idx, :].nonzero()[1]):\n",
    "                song_ids.append(sid)\n",
    "\n",
    "        m = len(song_ids)\n",
    "        if m < 100:\n",
    "            song_ids += list(model.transformer_song.idf_.argsort()[:100-m])\n",
    "\n",
    "    songs = [idx2song[sid] for sid in song_ids]\n",
    "\n",
    "    answers.append({\n",
    "        \"id\": playlist,\n",
    "        \"songs\": songs,\n",
    "        \"tags\": tags,\n",
    "    })"
   ]
  },
  {
   "cell_type": "code",
   "execution_count": 28,
   "metadata": {},
   "outputs": [
    {
     "output_type": "execute_result",
     "data": {
      "text/plain": "[array([0., 0., 0., ..., 0., 0., 0.])]"
     },
     "metadata": {},
     "execution_count": 28
    }
   ],
   "source": [
    "model.ratings_tag[0:5]"
   ]
  },
  {
   "cell_type": "code",
   "execution_count": 29,
   "metadata": {},
   "outputs": [
    {
     "output_type": "execute_result",
     "data": {
      "text/plain": "array([], dtype=int32)"
     },
     "metadata": {},
     "execution_count": 29
    }
   ],
   "source": [
    "model.pt_test[0, :].nonzero()[1]"
   ]
  },
  {
   "cell_type": "code",
   "execution_count": 30,
   "metadata": {},
   "outputs": [
    {
     "output_type": "execute_result",
     "data": {
      "text/plain": "<6201x6201 sparse matrix of type '<class 'numpy.float64'>'\n\twith 110415 stored elements in Compressed Sparse Row format>"
     },
     "metadata": {},
     "execution_count": 30
    }
   ],
   "source": [
    "model.tt_similarity"
   ]
  },
  {
   "cell_type": "code",
   "execution_count": 31,
   "metadata": {},
   "outputs": [
    {
     "output_type": "execute_result",
     "data": {
      "text/plain": "6"
     },
     "metadata": {},
     "execution_count": 31
    }
   ],
   "source": [
    "model.pt_train[:, 0].count_nonzero()"
   ]
  },
  {
   "cell_type": "code",
   "execution_count": 32,
   "metadata": {},
   "outputs": [
    {
     "output_type": "execute_result",
     "data": {
      "text/plain": "4"
     },
     "metadata": {},
     "execution_count": 32
    }
   ],
   "source": [
    "model.pt_train[:, 2].count_nonzero()"
   ]
  },
  {
   "cell_type": "code",
   "execution_count": 33,
   "metadata": {},
   "outputs": [
    {
     "output_type": "execute_result",
     "data": {
      "text/plain": "array([8.18170058, 9.43446354, 8.51817281, ..., 7.48855339, 9.43446354,\n       9.43446354])"
     },
     "metadata": {},
     "execution_count": 33
    }
   ],
   "source": [
    "model.transformer_tag.idf_"
   ]
  },
  {
   "cell_type": "code",
   "execution_count": 34,
   "metadata": {},
   "outputs": [
    {
     "output_type": "execute_result",
     "data": {
      "text/plain": "6201"
     },
     "metadata": {},
     "execution_count": 34
    }
   ],
   "source": [
    "len(model.tag2idx)"
   ]
  },
  {
   "cell_type": "code",
   "execution_count": 35,
   "metadata": {},
   "outputs": [
    {
     "output_type": "execute_result",
     "data": {
      "text/plain": "(array([0, 0], dtype=int32), array([1129, 4904], dtype=int32))"
     },
     "metadata": {},
     "execution_count": 35
    }
   ],
   "source": [
    "model.pt_test[3, :].nonzero()"
   ]
  },
  {
   "cell_type": "code",
   "execution_count": 36,
   "metadata": {},
   "outputs": [
    {
     "output_type": "execute_result",
     "data": {
      "text/plain": "0.0"
     },
     "metadata": {},
     "execution_count": 36
    }
   ],
   "source": [
    "model.pt_test[3, 2103]"
   ]
  },
  {
   "cell_type": "code",
   "execution_count": 37,
   "metadata": {},
   "outputs": [
    {
     "output_type": "execute_result",
     "data": {
      "text/plain": "0.0"
     },
     "metadata": {},
     "execution_count": 37
    }
   ],
   "source": [
    "model.pt_test[3, 5155]"
   ]
  },
  {
   "cell_type": "code",
   "execution_count": 38,
   "metadata": {},
   "outputs": [
    {
     "output_type": "execute_result",
     "data": {
      "text/plain": "9.434463543817241"
     },
     "metadata": {},
     "execution_count": 38
    }
   ],
   "source": [
    "model.transformer_tag.idf_[2103]"
   ]
  },
  {
   "cell_type": "code",
   "execution_count": 39,
   "metadata": {},
   "outputs": [
    {
     "output_type": "execute_result",
     "data": {
      "text/plain": "matrix([[0., 0., 0., 0., 0., 0., 0., 0., 0., 0., 0.]])"
     },
     "metadata": {},
     "execution_count": 39
    }
   ],
   "source": [
    "A = (model.tt_similarity[2153, :] * model.transformer_tag.idf_[2153]).todense()\n",
    "A[0, 9:20]"
   ]
  },
  {
   "cell_type": "code",
   "execution_count": 40,
   "metadata": {},
   "outputs": [
    {
     "output_type": "execute_result",
     "data": {
      "text/plain": "matrix([[0., 0., 0., 0., 0., 0., 0., 0., 0., 0., 0.]])"
     },
     "metadata": {},
     "execution_count": 40
    }
   ],
   "source": [
    "B = (model.tt_similarity[5155, :] * model.transformer_tag.idf_[5155]).todense()\n",
    "B[0, 9:20]"
   ]
  },
  {
   "cell_type": "code",
   "execution_count": 41,
   "metadata": {},
   "outputs": [
    {
     "output_type": "execute_result",
     "data": {
      "text/plain": "matrix([[0., 0., 0., 0., 0., 0., 0., 0., 0., 0., 0.]])"
     },
     "metadata": {},
     "execution_count": 41
    }
   ],
   "source": [
    "(A + B)[0, 9:20]"
   ]
  },
  {
   "cell_type": "code",
   "execution_count": 42,
   "metadata": {},
   "outputs": [
    {
     "output_type": "error",
     "ename": "IndexError",
     "evalue": "list index out of range",
     "traceback": [
      "\u001b[0;31m---------------------------------------------------------------------------\u001b[0m",
      "\u001b[0;31mIndexError\u001b[0m                                Traceback (most recent call last)",
      "\u001b[0;32m<ipython-input-42-c302c8f2e3e8>\u001b[0m in \u001b[0;36m<module>\u001b[0;34m\u001b[0m\n\u001b[0;32m----> 1\u001b[0;31m \u001b[0mmodel\u001b[0m\u001b[0;34m.\u001b[0m\u001b[0mratings_tag\u001b[0m\u001b[0;34m[\u001b[0m\u001b[0;36m3\u001b[0m\u001b[0;34m]\u001b[0m\u001b[0;34m[\u001b[0m\u001b[0;36m0\u001b[0m\u001b[0;34m,\u001b[0m \u001b[0;36m9\u001b[0m\u001b[0;34m:\u001b[0m\u001b[0;36m20\u001b[0m\u001b[0;34m]\u001b[0m\u001b[0;34m\u001b[0m\u001b[0;34m\u001b[0m\u001b[0m\n\u001b[0m",
      "\u001b[0;31mIndexError\u001b[0m: list index out of range"
     ]
    }
   ],
   "source": [
    "model.ratings_tag[3][0, 9:20]"
   ]
  },
  {
   "cell_type": "code",
   "execution_count": 43,
   "metadata": {},
   "outputs": [
    {
     "output_type": "error",
     "ename": "NameError",
     "evalue": "name 'ratings_tag' is not defined",
     "traceback": [
      "\u001b[0;31m---------------------------------------------------------------------------\u001b[0m",
      "\u001b[0;31mNameError\u001b[0m                                 Traceback (most recent call last)",
      "\u001b[0;32m<ipython-input-43-70ad942651fe>\u001b[0m in \u001b[0;36m<module>\u001b[0;34m\u001b[0m\n\u001b[0;32m----> 1\u001b[0;31m \u001b[0mratings_tag\u001b[0m\u001b[0;34m[\u001b[0m\u001b[0;36m3\u001b[0m\u001b[0;34m]\u001b[0m\u001b[0;34m.\u001b[0m\u001b[0margsort\u001b[0m\u001b[0;34m(\u001b[0m\u001b[0;34m)\u001b[0m\u001b[0;34m[\u001b[0m\u001b[0;36m0\u001b[0m\u001b[0;34m,\u001b[0m \u001b[0;34m:\u001b[0m\u001b[0;34m:\u001b[0m\u001b[0;34m-\u001b[0m\u001b[0;36m1\u001b[0m\u001b[0;34m]\u001b[0m\u001b[0;34m\u001b[0m\u001b[0;34m\u001b[0m\u001b[0m\n\u001b[0m",
      "\u001b[0;31mNameError\u001b[0m: name 'ratings_tag' is not defined"
     ]
    }
   ],
   "source": [
    "ratings_tag[3].argsort()[0, ::-1]"
   ]
  },
  {
   "cell_type": "code",
   "execution_count": 44,
   "metadata": {},
   "outputs": [
    {
     "output_type": "error",
     "ename": "NameError",
     "evalue": "name 'ratings_tag' is not defined",
     "traceback": [
      "\u001b[0;31m---------------------------------------------------------------------------\u001b[0m",
      "\u001b[0;31mNameError\u001b[0m                                 Traceback (most recent call last)",
      "\u001b[0;32m<ipython-input-44-612b7c2083d3>\u001b[0m in \u001b[0;36m<module>\u001b[0;34m\u001b[0m\n\u001b[0;32m----> 1\u001b[0;31m \u001b[0mratings_tag\u001b[0m\u001b[0;34m[\u001b[0m\u001b[0;36m3\u001b[0m\u001b[0;34m]\u001b[0m\u001b[0;34m[\u001b[0m\u001b[0;36m0\u001b[0m\u001b[0;34m,\u001b[0m \u001b[0;36m0\u001b[0m\u001b[0;34m]\u001b[0m\u001b[0;34m\u001b[0m\u001b[0;34m\u001b[0m\u001b[0m\n\u001b[0m",
      "\u001b[0;31mNameError\u001b[0m: name 'ratings_tag' is not defined"
     ]
    }
   ],
   "source": [
    "ratings_tag[3][0, 0]"
   ]
  },
  {
   "cell_type": "code",
   "execution_count": 45,
   "metadata": {},
   "outputs": [
    {
     "output_type": "error",
     "ename": "NameError",
     "evalue": "name 'ratings_tag' is not defined",
     "traceback": [
      "\u001b[0;31m---------------------------------------------------------------------------\u001b[0m",
      "\u001b[0;31mNameError\u001b[0m                                 Traceback (most recent call last)",
      "\u001b[0;32m<ipython-input-45-f932a4bb3a0d>\u001b[0m in \u001b[0;36m<module>\u001b[0;34m\u001b[0m\n\u001b[0;32m----> 1\u001b[0;31m \u001b[0mratings_tag\u001b[0m\u001b[0;34m[\u001b[0m\u001b[0;36m3\u001b[0m\u001b[0;34m]\u001b[0m\u001b[0;34m[\u001b[0m\u001b[0;36m0\u001b[0m\u001b[0;34m,\u001b[0m \u001b[0;36m2103\u001b[0m\u001b[0;34m]\u001b[0m\u001b[0;34m\u001b[0m\u001b[0;34m\u001b[0m\u001b[0m\n\u001b[0m",
      "\u001b[0;31mNameError\u001b[0m: name 'ratings_tag' is not defined"
     ]
    }
   ],
   "source": [
    "ratings_tag[3][0, 2103]"
   ]
  },
  {
   "cell_type": "code",
   "execution_count": 46,
   "metadata": {},
   "outputs": [
    {
     "output_type": "execute_result",
     "data": {
      "text/plain": "array([1452, 4849, 5632, 5549, 5077, 6194, 5504, 2191, 6040,  749])"
     },
     "metadata": {},
     "execution_count": 46
    }
   ],
   "source": [
    "model.transformer_tag.idf_.argsort()[:10]"
   ]
  },
  {
   "cell_type": "code",
   "execution_count": 47,
   "metadata": {},
   "outputs": [
    {
     "output_type": "execute_result",
     "data": {
      "text/plain": "9"
     },
     "metadata": {},
     "execution_count": 47
    }
   ],
   "source": [
    "model.pt_train[:, 3396].count_nonzero()"
   ]
  },
  {
   "cell_type": "code",
   "execution_count": 48,
   "metadata": {},
   "outputs": [
    {
     "output_type": "error",
     "ename": "NameError",
     "evalue": "name 'rating_tag' is not defined",
     "traceback": [
      "\u001b[0;31m---------------------------------------------------------------------------\u001b[0m",
      "\u001b[0;31mNameError\u001b[0m                                 Traceback (most recent call last)",
      "\u001b[0;32m<ipython-input-48-89654da36789>\u001b[0m in \u001b[0;36m<module>\u001b[0;34m\u001b[0m\n\u001b[0;32m----> 1\u001b[0;31m \u001b[0mtype\u001b[0m\u001b[0;34m(\u001b[0m\u001b[0mrating_tag\u001b[0m\u001b[0;34m)\u001b[0m\u001b[0;34m\u001b[0m\u001b[0;34m\u001b[0m\u001b[0m\n\u001b[0m",
      "\u001b[0;31mNameError\u001b[0m: name 'rating_tag' is not defined"
     ]
    }
   ],
   "source": [
    "type(rating_tag)"
   ]
  },
  {
   "cell_type": "code",
   "execution_count": 49,
   "metadata": {},
   "outputs": [
    {
     "output_type": "execute_result",
     "data": {
      "text/plain": "scipy.sparse.csr.csr_matrix"
     },
     "metadata": {},
     "execution_count": 49
    }
   ],
   "source": [
    "type(model.tt_similarity)"
   ]
  },
  {
   "cell_type": "code",
   "execution_count": 50,
   "metadata": {},
   "outputs": [
    {
     "output_type": "execute_result",
     "data": {
      "text/plain": "scipy.sparse.csr.csr_matrix"
     },
     "metadata": {},
     "execution_count": 50
    }
   ],
   "source": [
    "type(model.ss_similarity)"
   ]
  },
  {
   "cell_type": "code",
   "execution_count": null,
   "metadata": {},
   "outputs": [],
   "source": []
  },
  {
   "cell_type": "code",
   "execution_count": null,
   "metadata": {},
   "outputs": [],
   "source": []
  },
  {
   "cell_type": "code",
   "execution_count": null,
   "metadata": {},
   "outputs": [],
   "source": []
  }
 ],
 "metadata": {
  "language_info": {
   "codemirror_mode": {
    "name": "ipython",
    "version": 3
   },
   "file_extension": ".py",
   "mimetype": "text/x-python",
   "name": "python",
   "nbconvert_exporter": "python",
   "pygments_lexer": "ipython3",
   "version": "3.7.4-final"
  },
  "orig_nbformat": 2,
  "kernelspec": {
   "name": "python37464bitvenvvenv77235a9261d1435da9b22f1d2e41fd2d",
   "display_name": "Python 3.7.4 64-bit ('venv': venv)"
  }
 },
 "nbformat": 4,
 "nbformat_minor": 2
}